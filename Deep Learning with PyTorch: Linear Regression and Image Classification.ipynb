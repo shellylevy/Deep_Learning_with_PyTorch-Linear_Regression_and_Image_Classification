{
 "cells": [
  {
   "cell_type": "markdown",
   "metadata": {},
   "source": [
    "# Homework 1: Linear Regression and Classification in PyTorch"
   ]
  },
  {
   "cell_type": "markdown",
   "metadata": {},
   "source": [
    "## Part 1: Regression warm-up"
   ]
  },
  {
   "cell_type": "code",
   "execution_count": 1,
   "metadata": {},
   "outputs": [],
   "source": [
    "# You probably won't need additional imports for this part\n",
    "import torch\n",
    "import torch.nn as nn\n",
    "import numpy as np\n",
    "import matplotlib.pyplot as plt\n",
    "from sklearn.datasets import load_diabetes\n",
    "from sklearn.model_selection import train_test_split\n",
    "from sklearn.preprocessing import StandardScaler\n",
    "import torch.nn as nn\n",
    "import torch.nn.functional as F # ReLU is here"
   ]
  },
  {
   "cell_type": "code",
   "execution_count": 2,
   "metadata": {},
   "outputs": [],
   "source": [
    "# Load and Prepare the Dataset\n",
    "diabetes_data = load_diabetes()\n",
    "X, y = diabetes_data.data, diabetes_data.target\n",
    "X_train, X_test, y_train, y_test = train_test_split(X, y, test_size=0.2, random_state=0)"
   ]
  },
  {
   "cell_type": "code",
   "execution_count": 3,
   "metadata": {},
   "outputs": [
    {
     "name": "stdout",
     "output_type": "stream",
     "text": [
      "X_train shape: (353, 10)\n",
      "X_test shape: (89, 10)\n",
      "y_train shape: (353,)\n",
      "y_test shape: (89,)\n"
     ]
    }
   ],
   "source": [
    "print(\"X_train shape:\", X_train.shape)\n",
    "print(\"X_test shape:\", X_test.shape)\n",
    "print(\"y_train shape:\", y_train.shape)\n",
    "print(\"y_test shape:\", y_test.shape)"
   ]
  },
  {
   "cell_type": "code",
   "execution_count": 4,
   "metadata": {},
   "outputs": [],
   "source": [
    "# Standardize the data\n",
    "scaler = StandardScaler()\n",
    "X_train = scaler.fit_transform(X_train)\n",
    "X_test = scaler.transform(X_test)"
   ]
  },
  {
   "cell_type": "markdown",
   "metadata": {},
   "source": [
    "### Theoretical questions\n",
    "\n",
    "Q1: Why do we need to scale the data? What will happen if we forget this step?\n",
    "\n",
    "\n",
    "Q2: Why are we using the training set parameters to perform the scaling on both training and testing datasets? What is the problem with scaling the datasets according to all the data (train+test) or to scale the training and testing separately?"
   ]
  },
  {
   "cell_type": "markdown",
   "metadata": {},
   "source": [
    "## Your answers in this cell\n",
    "\n",
    "### A1:\n",
    "*My intuitive answer: <br>\n",
    "In a dataset, some features inherently have larger values (for example house size) while others have smaller values (for example number of rooms). If features have disparate scales, the model might disproportionately emphasize the feature with a larger scale during training, potentially leading to biased predictions. Feature scaling ensures a consistent scale, mitigating bias in the process. <br>\n",
    "\n",
    "*Another reminder that came up thanks to the chat:<br>\n",
    "Facilitating Convergence: Many machine learning algorithms, including neural networks, converge faster when features are on a similar scale. This is particularly important for optimization algorithms like gradient descent, as it helps the algorithm find the optimal solution more efficiently.<br>\n",
    "\n",
    "Improving Numerical Stability: Large-scale differences in feature values can lead to numerical instability in certain calculations. Scaling mitigates this issue and makes the optimization process more stable.<br>\n",
    "\n",
    "So- if we forget to scale the data, the model may be sensitive to the scale of features, to give undue importance to certain features over others and might take longer to converge.\n",
    "\n",
    "### A2:\n",
    "We use the parameters from the training set to scale both the training and testing datasets, aiming to prevent information leakage and reliable performance evaluation. The issue with scaling the datasets based on all available data is that it introduces information to our model that should remain unseen. This can result in overly optimistic performance estimates during both training and testing, as the model indirectly gains exposure to parts of the test set during the scaling process. We avoid scaling training and testing separately to maintain consistent scaling for model understanding. Additionally, in scenarios where the model predicts a single example, using consistent scaling ensures seamless application without the need for separate adjustments."
   ]
  },
  {
   "cell_type": "code",
   "execution_count": 5,
   "metadata": {},
   "outputs": [],
   "source": [
    "# Convert to PyTorch tensors\n",
    "X_train = torch.tensor(X_train, dtype=torch.float32)\n",
    "y_train = torch.tensor(y_train, dtype=torch.float32)\n",
    "X_test = torch.tensor(X_test, dtype=torch.float32)\n",
    "y_test = torch.tensor(y_test, dtype=torch.float32)"
   ]
  },
  {
   "cell_type": "code",
   "execution_count": 6,
   "metadata": {},
   "outputs": [],
   "source": [
    "class LinearRegressionModel(nn.Module):\n",
    "    '''    \n",
    "    Every network in PyTorch can (and should) be defined as a class.\n",
    "    Every class should have an init method containing the layers and a forward \n",
    "    method that defines how the layers are connected. This is often called \n",
    "    the architecture of the network.\n",
    "\n",
    "    A linear regression model predicts a continuous value using a linear function.\n",
    "    In PyTorch, this can be implemented using a fully connected layer without any \n",
    "    activation functions (also known as a Linear layer in PyTorch).\n",
    "\n",
    "    Define a linear regression model with a single Linear layer.\n",
    "    Documentation: https://pytorch.org/docs/stable/nn.html#linear-layers\n",
    "    '''\n",
    "    def __init__(self, n_features):\n",
    "        super(LinearRegressionModel, self).__init__()\n",
    "        self.layer=nn.Linear(n_features,1)\n",
    "      \n",
    "    def forward(self, x):\n",
    "        y_hat = None\n",
    "        y_hat=self.layer(x)\n",
    "        return y_hat"
   ]
  },
  {
   "cell_type": "code",
   "execution_count": 7,
   "metadata": {},
   "outputs": [],
   "source": [
    "def train_and_test_model(model, X_train, y_train, X_test, y_test, num_epochs, criterion, optimizer):\n",
    "    '''\n",
    "    This function handles the training. It takes the model, data, number of iterations,\n",
    "    loss function and optimizer and performs training and logging of loss values for\n",
    "    debugging and analysis. This function should work for both the linear regression \n",
    "    model and the deep model, without any specific checks.\n",
    "    '''\n",
    "    \n",
    "    train_losses = []\n",
    "    test_losses = []\n",
    "    model.train()\n",
    "    for epoch in range(num_epochs):\n",
    "        \n",
    "        # Forward pass (use model to get outputs, and calculate loss)\n",
    "        y_hat = model(X_train)  # forward pass\n",
    "        loss = criterion(y_hat, y_train.view(-1, 1))  # calculate loss\n",
    "    \n",
    "        # Backward pass: zero gradients, calculate gradients and do the update step\n",
    "        loss.backward()  # Backward pass - calculate gradients\n",
    "        optimizer.step()  # Optimization step\n",
    "        optimizer.zero_grad()  # Zero the gradients (This is how the backward was developed)\n",
    "\n",
    "        train_losses.append(loss.item())\n",
    "\n",
    "        # Test the model every 100 epochs\n",
    "        if (epoch + 1) % 100 == 0:\n",
    "            model.eval()  # Set the model to evaluation mode\n",
    "            with torch.no_grad():\n",
    "                y_predicted = model.forward(X_test)\n",
    "                test_loss = criterion(y_predicted, y_test.view(-1, 1))\n",
    "                test_losses.append(test_loss.item())\n",
    "                print(f'Epoch [{epoch + 1}/{num_epochs}], Loss: {loss.item():.4f}, Test Loss: {test_loss.item():.4f}')\n",
    "            model.train()  # Set the model back to training mode\n",
    "\n",
    "    # Final test\n",
    "    model.eval()\n",
    "    with torch.no_grad():\n",
    "        y_predicted = model(X_test)\n",
    "        test_loss = criterion(y_predicted, y_test.view(-1, 1))\n",
    "        print(f'Test Loss: {test_loss.item():.4f}')\n",
    "\n",
    "    return train_losses, test_losses\n"
   ]
  },
  {
   "cell_type": "code",
   "execution_count": 8,
   "metadata": {},
   "outputs": [
    {
     "name": "stdout",
     "output_type": "stream",
     "text": [
      "Epoch [100/1000], Loss: 3208.0984, Test Loss: 3724.3977\n",
      "Epoch [200/1000], Loss: 2759.5396, Test Loss: 3440.3992\n",
      "Epoch [300/1000], Loss: 2749.8567, Test Loss: 3458.7844\n",
      "Epoch [400/1000], Loss: 2748.9185, Test Loss: 3463.7324\n",
      "Epoch [500/1000], Loss: 2748.3047, Test Loss: 3464.5371\n",
      "Epoch [600/1000], Loss: 2747.7522, Test Loss: 3464.2322\n",
      "Epoch [700/1000], Loss: 2747.2358, Test Loss: 3463.5796\n",
      "Epoch [800/1000], Loss: 2746.7483, Test Loss: 3462.8123\n",
      "Epoch [900/1000], Loss: 2746.2856, Test Loss: 3462.0120\n",
      "Epoch [1000/1000], Loss: 2745.8455, Test Loss: 3461.2083\n",
      "Test Loss: 3461.2083\n"
     ]
    }
   ],
   "source": [
    "num_epochs = 1000\n",
    "\n",
    "linear_model = LinearRegressionModel(X_train.shape[1])\n",
    "criterion = nn.MSELoss()\n",
    "\n",
    "# Make sure the optimizer gets the parameters of the model you are training\n",
    "# You might need to change the learning rate for different architectures\n",
    "optimizer = torch.optim.SGD(linear_model.parameters(), lr=0.01)\n",
    "\n",
    "train_losses, test_losses = train_and_test_model(linear_model, \n",
    "                                                 X_train, y_train, \n",
    "                                                 X_test, y_test, \n",
    "                                                 num_epochs, \n",
    "                                                 criterion, \n",
    "                                                 optimizer)"
   ]
  },
  {
   "cell_type": "code",
   "execution_count": 9,
   "metadata": {},
   "outputs": [
    {
     "data": {
      "image/png": "[encoded data removed]",
      "text/plain": [
       "<Figure size 640x480 with 1 Axes>"
      ]
     },
     "metadata": {},
     "output_type": "display_data"
    }
   ],
   "source": [
    "plt.plot(train_losses, label='Training loss')\n",
    "plt.plot(np.arange(0, num_epochs, 100), test_losses, label='Test loss')\n",
    "plt.xlabel('Epochs')\n",
    "plt.ylabel('Loss')\n",
    "plt.legend()\n",
    "plt.show()"
   ]
  },
  {
   "cell_type": "markdown",
   "metadata": {},
   "source": [
    "Training Loss: The training loss decreases steadily over the epochs, indicating that the model is learning and adjusting its parameters to minimize the loss on the training data.\n",
    "Test Loss: The test loss also decreases initially but starts to stabilize. This suggests that the model is performing well on both the training and test sets, and the learning rate of 0.01 is allowing the model to converge effectively. <br>\n",
    "As we know, an excessively large learning rate may prevent convergence (resulting in divergence), while a learning rate that is overly small leads to slow convergence and a potential risk of getting trapped in a local minimum. Therefore, we will explore two additional options for the learning rate."
   ]
  },
  {
   "cell_type": "code",
   "execution_count": 10,
   "metadata": {},
   "outputs": [
    {
     "name": "stdout",
     "output_type": "stream",
     "text": [
      "Epoch [100/1000], Loss: 2742.3589, Test Loss: 3453.9434\n",
      "Epoch [200/1000], Loss: 2739.9678, Test Loss: 3448.1458\n",
      "Epoch [300/1000], Loss: 2738.3267, Test Loss: 3443.5544\n",
      "Epoch [400/1000], Loss: 2737.1997, Test Loss: 3439.9072\n",
      "Epoch [500/1000], Loss: 2736.4260, Test Loss: 3436.9946\n",
      "Epoch [600/1000], Loss: 2735.8945, Test Loss: 3434.6565\n",
      "Epoch [700/1000], Loss: 2735.5295, Test Loss: 3432.7715\n",
      "Epoch [800/1000], Loss: 2735.2788, Test Loss: 3431.2446\n",
      "Epoch [900/1000], Loss: 2735.1067, Test Loss: 3430.0042\n",
      "Epoch [1000/1000], Loss: 2734.9885, Test Loss: 3428.9929\n",
      "Test Loss: 3428.9929\n",
      "Epoch [100/1000], Loss: 2734.9868, Test Loss: 3428.9810\n",
      "Epoch [200/1000], Loss: 2734.9856, Test Loss: 3428.9697\n",
      "Epoch [300/1000], Loss: 2734.9849, Test Loss: 3428.9600\n",
      "Epoch [400/1000], Loss: 2734.9836, Test Loss: 3428.9517\n",
      "Epoch [500/1000], Loss: 2734.9829, Test Loss: 3428.9429\n",
      "Epoch [600/1000], Loss: 2734.9819, Test Loss: 3428.9346\n",
      "Epoch [700/1000], Loss: 2734.9810, Test Loss: 3428.9260\n",
      "Epoch [800/1000], Loss: 2734.9802, Test Loss: 3428.9175\n",
      "Epoch [900/1000], Loss: 2734.9790, Test Loss: 3428.9092\n",
      "Epoch [1000/1000], Loss: 2734.9780, Test Loss: 3428.9004\n",
      "Test Loss: 3428.9004\n"
     ]
    }
   ],
   "source": [
    "optimizer2 = torch.optim.SGD(linear_model.parameters(), lr=0.1)\n",
    "\n",
    "train_losses_lr2, test_losses_lr2 = train_and_test_model(linear_model, \n",
    "                                                 X_train, y_train, \n",
    "                                                 X_test, y_test, \n",
    "                                                 num_epochs, \n",
    "                                                 criterion, \n",
    "                                                 optimizer2)\n",
    "\n",
    "optimizer3 = torch.optim.SGD(linear_model.parameters(), lr=0.001)\n",
    "\n",
    "train_losses_lr3, test_losses_lr3 = train_and_test_model(linear_model, \n",
    "                                                 X_train, y_train, \n",
    "                                                 X_test, y_test, \n",
    "                                                 num_epochs, \n",
    "                                                 criterion, \n",
    "                                                 optimizer3)"
   ]
  },
  {
   "cell_type": "code",
   "execution_count": 11,
   "metadata": {},
   "outputs": [
    {
     "data": {
      "image/png": "[encoded data removed]",
      "text/plain": [
       "<Figure size 1500x500 with 3 Axes>"
      ]
     },
     "metadata": {},
     "output_type": "display_data"
    }
   ],
   "source": [
    "# Create subplots with 1 row and 3 columns\n",
    "fig, axes = plt.subplots(1, 3, figsize=(15, 5))\n",
    "\n",
    "# Plot for learning rate 0.01\n",
    "axes[0].plot(train_losses, label='Training loss')\n",
    "axes[0].plot(np.arange(0, num_epochs, 100), test_losses, label='Test loss')\n",
    "axes[0].set_title('Learning Rate: 0.01')\n",
    "axes[0].set_xlabel('Epochs')\n",
    "axes[0].set_ylabel('Loss')\n",
    "axes[0].legend()\n",
    "\n",
    "# Plot for learning rate 1\n",
    "axes[1].plot(train_losses_lr2, label='Training loss')\n",
    "axes[1].plot(np.arange(0, num_epochs, 100), test_losses_lr2, label='Test loss')\n",
    "axes[1].set_title('Learning Rate: 1')\n",
    "axes[1].set_xlabel('Epochs')\n",
    "axes[1].set_ylabel('Loss')\n",
    "axes[1].legend()\n",
    "\n",
    "# Plot for learning rate 0.001\n",
    "axes[2].plot(train_losses_lr3, label='Training loss')\n",
    "axes[2].plot(np.arange(0, num_epochs, 100), test_losses_lr3, label='Test loss')\n",
    "axes[2].set_title('Learning Rate: 0.001')\n",
    "axes[2].set_xlabel('Epochs')\n",
    "axes[2].set_ylabel('Loss')\n",
    "axes[2].legend()\n",
    "\n",
    "# Adjust layout to prevent overlap\n",
    "plt.tight_layout()\n",
    "\n",
    "# Show the plots\n",
    "plt.show()"
   ]
  },
  {
   "cell_type": "markdown",
   "metadata": {},
   "source": [
    "Learning Rate Impact:<br>\n",
    "0.01: Balanced convergence, both training and test losses decrease steadily.<br>\n",
    "0.1: Rapid initial convergence, but the test loss starts oscillating, indicating instability.<br>\n",
    "0.001: Slow convergence for both training and test losses, suggesting the learning rate is too small.<br>\n",
    "A learning rate of 0.01 appears to be a suitable balance between convergence speed and stability for this task."
   ]
  },
  {
   "cell_type": "markdown",
   "metadata": {},
   "source": [
    "Now you will create a deep neural network, with non-linear activations."
   ]
  },
  {
   "cell_type": "code",
   "execution_count": 12,
   "metadata": {},
   "outputs": [],
   "source": [
    "class DeepRegressionModel(nn.Module):\n",
    "    '''\n",
    "    A deep neural network for regression can have multiple layers.\n",
    "    Each layer is fully connected, followed by a non-linear activation \n",
    "    function (except for the output layer in regression models).\n",
    "\n",
    "    Define a network with multiple Linear layers and ReLU activations.\n",
    "    Documentation:\n",
    "    - Activation functions: https://pytorch.org/docs/stable/nn.html#non-linear-activation-functions\n",
    "    '''\n",
    "    def __init__(self, n_features):\n",
    "        super(DeepRegressionModel, self).__init__()\n",
    "        self.linear_layer1= nn.Linear(n_features,250)\n",
    "        self.linear_layer2= nn.Linear(250,150)\n",
    "        self.linear_layer3= nn.Linear(150,1)\n",
    "        \n",
    "    def forward(self, x):\n",
    "        y_hat = None\n",
    "        x=self.linear_layer1(x)\n",
    "        x = nn.ReLU()(x)\n",
    "        x=self.linear_layer2(x)\n",
    "        x = nn.ReLU()(x)\n",
    "        y_hat = self.linear_layer3(x)\n",
    "        return y_hat"
   ]
  },
  {
   "cell_type": "code",
   "execution_count": 13,
   "metadata": {},
   "outputs": [
    {
     "name": "stdout",
     "output_type": "stream",
     "text": [
      "Epoch [100/1000], Loss: 27808.3125, Test Loss: 27616.6484\n",
      "Epoch [200/1000], Loss: 13738.6348, Test Loss: 13729.3262\n",
      "Epoch [300/1000], Loss: 3496.8115, Test Loss: 3528.7566\n",
      "Epoch [400/1000], Loss: 3000.8921, Test Loss: 3421.7668\n",
      "Epoch [500/1000], Loss: 2828.2295, Test Loss: 3432.5972\n",
      "Epoch [600/1000], Loss: 2731.9915, Test Loss: 3437.5491\n",
      "Epoch [700/1000], Loss: 2666.1580, Test Loss: 3438.9456\n",
      "Epoch [800/1000], Loss: 2618.3442, Test Loss: 3439.0042\n",
      "Epoch [900/1000], Loss: 2581.2029, Test Loss: 3439.7236\n",
      "Epoch [1000/1000], Loss: 2550.5715, Test Loss: 3441.6057\n",
      "Test Loss: 3441.6057\n"
     ]
    }
   ],
   "source": [
    "num_epochs = 1000\n",
    "\n",
    "deep_model = DeepRegressionModel(X_train.shape[1])\n",
    "criterion = nn.MSELoss()\n",
    "\n",
    "# Make sure the optimizer gets the parameters of the model you are training\n",
    "# You might need to change the learning rate for different architectures\n",
    "optimizer = torch.optim.SGD(deep_model.parameters(), lr=0.00001)\n",
    "\n",
    "train_losses, test_losses = train_and_test_model(deep_model, \n",
    "                                                 X_train, y_train, \n",
    "                                                 X_test, y_test, \n",
    "                                                 num_epochs, \n",
    "                                                 criterion, \n",
    "                                                 optimizer)"
   ]
  },
  {
   "cell_type": "code",
   "execution_count": 14,
   "metadata": {},
   "outputs": [
    {
     "data": {
      "image/png": "[encoded data removed]",
      "text/plain": [
       "<Figure size 640x480 with 1 Axes>"
      ]
     },
     "metadata": {},
     "output_type": "display_data"
    }
   ],
   "source": [
    "plt.plot(train_losses, label='Training loss')\n",
    "plt.plot(np.arange(0, num_epochs, 100), test_losses, label='Test loss')\n",
    "plt.xlabel('Epochs')\n",
    "plt.ylabel('Loss')\n",
    "plt.legend()\n",
    "plt.show()"
   ]
  },
  {
   "cell_type": "code",
   "execution_count": 15,
   "metadata": {
    "scrolled": true
   },
   "outputs": [
    {
     "name": "stdout",
     "output_type": "stream",
     "text": [
      "Epoch [100/1000], Loss: 27646.4961, Test Loss: 27453.4688\n",
      "Epoch [200/1000], Loss: 11703.8916, Test Loss: 11781.7295\n",
      "Epoch [300/1000], Loss: 3481.4907, Test Loss: 3600.8823\n",
      "Epoch [400/1000], Loss: 3069.1760, Test Loss: 3550.9807\n",
      "Epoch [500/1000], Loss: 2896.7856, Test Loss: 3554.9648\n",
      "Epoch [600/1000], Loss: 2795.1619, Test Loss: 3548.5540\n",
      "Epoch [700/1000], Loss: 2724.5835, Test Loss: 3538.7051\n",
      "Epoch [800/1000], Loss: 2671.3020, Test Loss: 3531.7012\n",
      "Epoch [900/1000], Loss: 2629.3713, Test Loss: 3527.9998\n",
      "Epoch [1000/1000], Loss: 2595.1626, Test Loss: 3526.7222\n",
      "Test Loss: 3526.7222\n",
      "Epoch [100/1000], Loss: 12417.8438, Test Loss: 10962.9736\n",
      "Epoch [200/1000], Loss: 5392.9995, Test Loss: 9170.3486\n",
      "Epoch [300/1000], Loss: 4689.5122, Test Loss: 8754.1230\n",
      "Epoch [400/1000], Loss: 3688.7429, Test Loss: 7070.9507\n",
      "Epoch [500/1000], Loss: 1238.9949, Test Loss: 4749.2666\n",
      "Epoch [600/1000], Loss: 1972.0436, Test Loss: 5908.7134\n",
      "Epoch [700/1000], Loss: 1419.7941, Test Loss: 5768.3916\n",
      "Epoch [800/1000], Loss: 1218.1116, Test Loss: 5708.0352\n",
      "Epoch [900/1000], Loss: 1032.8816, Test Loss: 5776.4536\n",
      "Epoch [1000/1000], Loss: 761.4345, Test Loss: 5900.6367\n",
      "Test Loss: 5900.6367\n",
      "Epoch [100/1000], Loss: 714.8082, Test Loss: 5881.2983\n",
      "Epoch [200/1000], Loss: 704.5895, Test Loss: 5862.8545\n",
      "Epoch [300/1000], Loss: 694.9796, Test Loss: 5845.4971\n",
      "Epoch [400/1000], Loss: 685.8638, Test Loss: 5829.1621\n",
      "Epoch [500/1000], Loss: 677.2121, Test Loss: 5813.5371\n",
      "Epoch [600/1000], Loss: 668.9841, Test Loss: 5798.5703\n",
      "Epoch [700/1000], Loss: 661.1724, Test Loss: 5784.2441\n",
      "Epoch [800/1000], Loss: 653.7513, Test Loss: 5770.5581\n",
      "Epoch [900/1000], Loss: 646.6858, Test Loss: 5757.4297\n",
      "Epoch [1000/1000], Loss: 639.9756, Test Loss: 5744.8760\n",
      "Test Loss: 5744.8760\n",
      "Architecture details for Model 2: Learning rate 0.00001:\n",
      "DeepRegressionModel2(\n",
      "  (linear_layer1): Linear(in_features=10, out_features=10, bias=True)\n",
      "  (linear_layer2): Linear(in_features=10, out_features=5, bias=True)\n",
      "  (linear_layer3): Linear(in_features=5, out_features=1, bias=True)\n",
      ")\n",
      "\n",
      "\n",
      "Epoch [100/1000], Loss: 29050.6406, Test Loss: 28846.6289\n",
      "Epoch [200/1000], Loss: 28958.1582, Test Loss: 28752.5703\n",
      "Epoch [300/1000], Loss: 28866.1758, Test Loss: 28658.9863\n",
      "Epoch [400/1000], Loss: 28774.3828, Test Loss: 28565.4824\n",
      "Epoch [500/1000], Loss: 28682.2148, Test Loss: 28471.6172\n",
      "Epoch [600/1000], Loss: 28588.2559, Test Loss: 28375.4883\n",
      "Epoch [700/1000], Loss: 28488.5781, Test Loss: 28273.3027\n",
      "Epoch [800/1000], Loss: 28369.5859, Test Loss: 28152.9102\n",
      "Epoch [900/1000], Loss: 28197.4727, Test Loss: 27977.7188\n",
      "Epoch [1000/1000], Loss: 27850.3477, Test Loss: 27628.2188\n",
      "Test Loss: 27628.2188\n",
      "Architecture details for Model 2: Learning rate 0.001:\n",
      "DeepRegressionModel2(\n",
      "  (linear_layer1): Linear(in_features=10, out_features=10, bias=True)\n",
      "  (linear_layer2): Linear(in_features=10, out_features=5, bias=True)\n",
      "  (linear_layer3): Linear(in_features=5, out_features=1, bias=True)\n",
      ")\n",
      "\n",
      "\n",
      "Epoch [100/1000], Loss: 21117.0859, Test Loss: 20701.2324\n",
      "Epoch [200/1000], Loss: 16172.3496, Test Loss: 15660.1533\n",
      "Epoch [300/1000], Loss: 12859.1162, Test Loss: 12265.1318\n",
      "Epoch [400/1000], Loss: 10639.0762, Test Loss: 9976.1826\n",
      "Epoch [500/1000], Loss: 9151.5361, Test Loss: 8430.9199\n",
      "Epoch [600/1000], Loss: 8154.8066, Test Loss: 7386.0737\n",
      "Epoch [700/1000], Loss: 7486.9434, Test Loss: 6678.2393\n",
      "Epoch [800/1000], Loss: 7039.4351, Test Loss: 6197.6182\n",
      "Epoch [900/1000], Loss: 6739.5781, Test Loss: 5870.3843\n",
      "Epoch [1000/1000], Loss: 6538.6460, Test Loss: 5646.8726\n",
      "Test Loss: 5646.8726\n",
      "Architecture details for Model 2: Learning rate 0.000000001:\n",
      "DeepRegressionModel2(\n",
      "  (linear_layer1): Linear(in_features=10, out_features=10, bias=True)\n",
      "  (linear_layer2): Linear(in_features=10, out_features=5, bias=True)\n",
      "  (linear_layer3): Linear(in_features=5, out_features=1, bias=True)\n",
      ")\n",
      "\n",
      "\n",
      "Epoch [100/1000], Loss: 6537.0146, Test Loss: 5646.8726\n",
      "Epoch [200/1000], Loss: 6537.0146, Test Loss: 5646.8726\n",
      "Epoch [300/1000], Loss: 6537.0146, Test Loss: 5646.8726\n",
      "Epoch [400/1000], Loss: 6537.0146, Test Loss: 5646.8726\n",
      "Epoch [500/1000], Loss: 6537.0146, Test Loss: 5646.8726\n",
      "Epoch [600/1000], Loss: 6537.0146, Test Loss: 5646.8726\n",
      "Epoch [700/1000], Loss: 6537.0146, Test Loss: 5646.8726\n",
      "Epoch [800/1000], Loss: 6537.0146, Test Loss: 5646.8726\n",
      "Epoch [900/1000], Loss: 6537.0146, Test Loss: 5646.8726\n",
      "Epoch [1000/1000], Loss: 6537.0146, Test Loss: 5646.8726\n",
      "Test Loss: 5646.8726\n",
      "Architecture details for Model 3: Learning rate 0.00001:\n",
      "DeepRegressionModel3(\n",
      "  (linear_layer1): Linear(in_features=10, out_features=1000, bias=True)\n",
      "  (linear_layer2): Linear(in_features=1000, out_features=500, bias=True)\n",
      "  (linear_layer3): Linear(in_features=500, out_features=500, bias=True)\n",
      "  (linear_layer4): Linear(in_features=500, out_features=1, bias=True)\n",
      ")\n",
      "\n",
      "\n",
      "Epoch [100/1000], Loss: 18350.4980, Test Loss: 17524.0176\n",
      "Epoch [200/1000], Loss: 3322.9858, Test Loss: 3632.6846\n",
      "Epoch [300/1000], Loss: 2945.6755, Test Loss: 3594.3220\n",
      "Epoch [400/1000], Loss: 2755.6392, Test Loss: 3565.0703\n",
      "Epoch [500/1000], Loss: 2631.7454, Test Loss: 3546.8711\n",
      "Epoch [600/1000], Loss: 2543.2390, Test Loss: 3542.1187\n",
      "Epoch [700/1000], Loss: 2474.1899, Test Loss: 3546.9702\n",
      "Epoch [800/1000], Loss: 2415.9966, Test Loss: 3556.9751\n",
      "Epoch [900/1000], Loss: 2364.3804, Test Loss: 3571.5947\n",
      "Epoch [1000/1000], Loss: 2317.3232, Test Loss: 3589.4817\n",
      "Test Loss: 3589.4817\n",
      "Architecture details for Model 3: Learning rate 0.001:\n",
      "DeepRegressionModel3(\n",
      "  (linear_layer1): Linear(in_features=10, out_features=1000, bias=True)\n",
      "  (linear_layer2): Linear(in_features=1000, out_features=500, bias=True)\n",
      "  (linear_layer3): Linear(in_features=500, out_features=500, bias=True)\n",
      "  (linear_layer4): Linear(in_features=500, out_features=1, bias=True)\n",
      ")\n",
      "\n",
      "\n",
      "Epoch [100/1000], Loss: nan, Test Loss: nan\n",
      "Epoch [200/1000], Loss: nan, Test Loss: nan\n",
      "Epoch [300/1000], Loss: nan, Test Loss: nan\n",
      "Epoch [400/1000], Loss: nan, Test Loss: nan\n",
      "Epoch [500/1000], Loss: nan, Test Loss: nan\n",
      "Epoch [600/1000], Loss: nan, Test Loss: nan\n",
      "Epoch [700/1000], Loss: nan, Test Loss: nan\n",
      "Epoch [800/1000], Loss: nan, Test Loss: nan\n",
      "Epoch [900/1000], Loss: nan, Test Loss: nan\n",
      "Epoch [1000/1000], Loss: nan, Test Loss: nan\n",
      "Test Loss: nan\n",
      "Architecture details for Model 3: Learning rate 0.000000001:\n",
      "DeepRegressionModel3(\n",
      "  (linear_layer1): Linear(in_features=10, out_features=1000, bias=True)\n",
      "  (linear_layer2): Linear(in_features=1000, out_features=500, bias=True)\n",
      "  (linear_layer3): Linear(in_features=500, out_features=500, bias=True)\n",
      "  (linear_layer4): Linear(in_features=500, out_features=1, bias=True)\n",
      ")\n",
      "\n",
      "\n",
      "Epoch [100/1000], Loss: nan, Test Loss: nan\n",
      "Epoch [200/1000], Loss: nan, Test Loss: nan\n",
      "Epoch [300/1000], Loss: nan, Test Loss: nan\n",
      "Epoch [400/1000], Loss: nan, Test Loss: nan\n",
      "Epoch [500/1000], Loss: nan, Test Loss: nan\n",
      "Epoch [600/1000], Loss: nan, Test Loss: nan\n",
      "Epoch [700/1000], Loss: nan, Test Loss: nan\n",
      "Epoch [800/1000], Loss: nan, Test Loss: nan\n",
      "Epoch [900/1000], Loss: nan, Test Loss: nan\n",
      "Epoch [1000/1000], Loss: nan, Test Loss: nan\n",
      "Test Loss: nan\n"
     ]
    }
   ],
   "source": [
    "def print_model_architecture(model, name):\n",
    "    print(f\"Architecture details for {name}:\")\n",
    "    print(model)\n",
    "    print(\"\\n\")\n",
    "\n",
    "# Model 1\n",
    "class DeepRegressionModel(nn.Module):\n",
    "    def __init__(self, n_features):\n",
    "        super(DeepRegressionModel, self).__init__()\n",
    "        self.linear_layer1= nn.Linear(n_features,250)\n",
    "        self.linear_layer2= nn.Linear(250,150)\n",
    "        self.linear_layer3= nn.Linear(150,1)\n",
    "\n",
    "    def forward(self, x):\n",
    "        y_hat = None\n",
    "        x = F.relu(self.linear_layer1(x))\n",
    "        x = F.relu(self.linear_layer2(x))\n",
    "        y_hat = self.linear_layer3(x)\n",
    "        return y_hat\n",
    "\n",
    "num_epochs = 1000\n",
    "\n",
    "deep_model = DeepRegressionModel(X_train.shape[1])\n",
    "criterion = nn.MSELoss()\n",
    "\n",
    "optimizer = torch.optim.SGD(deep_model.parameters(), lr=0.00001)\n",
    "\n",
    "train_losses1, test_losses1 = train_and_test_model(deep_model, \n",
    "                                                 X_train, y_train, \n",
    "                                                 X_test, y_test, \n",
    "                                                 num_epochs, \n",
    "                                                 criterion, \n",
    "                                                 optimizer)\n",
    "\n",
    "optimizer = torch.optim.SGD(deep_model.parameters(), lr=0.001)\n",
    "\n",
    "train_losses2, test_losses2 = train_and_test_model(deep_model, \n",
    "                                                 X_train, y_train, \n",
    "                                                 X_test, y_test, \n",
    "                                                 num_epochs, \n",
    "                                                 criterion, \n",
    "                                                 optimizer)\n",
    "\n",
    "optimizer = torch.optim.SGD(deep_model.parameters(), lr=0.0000001)\n",
    "\n",
    "train_losses3, test_losses3 = train_and_test_model(deep_model, \n",
    "                                                 X_train, y_train, \n",
    "                                                 X_test, y_test, \n",
    "                                                 num_epochs, \n",
    "                                                 criterion, \n",
    "                                                 optimizer)\n",
    "\n",
    "# Model 2\n",
    "class DeepRegressionModel2(nn.Module):\n",
    "    def __init__(self, n_features):\n",
    "        super(DeepRegressionModel2, self).__init__()\n",
    "        self.linear_layer1 = nn.Linear(n_features, 10)\n",
    "        self.linear_layer2 = nn.Linear(10, 5)\n",
    "        self.linear_layer3 = nn.Linear(5, 1)\n",
    "\n",
    "    def forward(self, x):\n",
    "        y_hat = None\n",
    "        x = F.relu(self.linear_layer1(x))\n",
    "        x = F.relu(self.linear_layer2(x))\n",
    "        y_hat = self.linear_layer3(x)\n",
    "        return y_hat\n",
    "\n",
    "deep_model2 = DeepRegressionModel2(X_train.shape[1])\n",
    "optimizer = torch.optim.SGD(deep_model2.parameters(), lr=0.00001)\n",
    "print_model_architecture(deep_model2, \"Model 2: Learning rate 0.00001\")\n",
    "\n",
    "train_losses4, test_losses4 = train_and_test_model(deep_model2, \n",
    "                                                 X_train, y_train, \n",
    "                                                 X_test, y_test, \n",
    "                                                 num_epochs, \n",
    "                                                 criterion, \n",
    "                                                 optimizer)\n",
    "\n",
    "optimizer = torch.optim.SGD(deep_model2.parameters(), lr=0.001)\n",
    "print_model_architecture(deep_model2, \"Model 2: Learning rate 0.001\")\n",
    "\n",
    "train_losses5, test_losses5 = train_and_test_model(deep_model2, \n",
    "                                                 X_train, y_train, \n",
    "                                                 X_test, y_test, \n",
    "                                                 num_epochs, \n",
    "                                                 criterion, \n",
    "                                                 optimizer)\n",
    "\n",
    "optimizer = torch.optim.SGD(deep_model2.parameters(), lr=0.000000001)\n",
    "print_model_architecture(deep_model2, \"Model 2: Learning rate 0.000000001\")\n",
    "\n",
    "train_losses6, test_losses6 = train_and_test_model(deep_model2, \n",
    "                                                 X_train, y_train, \n",
    "                                                 X_test, y_test, \n",
    "                                                 num_epochs, \n",
    "                                                 criterion, \n",
    "                                                 optimizer)\n",
    "\n",
    "# Model 3\n",
    "class DeepRegressionModel3(nn.Module):\n",
    "    def __init__(self, n_features):\n",
    "        super(DeepRegressionModel3, self).__init__()\n",
    "        self.linear_layer1 = nn.Linear(n_features, 1000)\n",
    "        self.linear_layer2 = nn.Linear(1000, 500)\n",
    "        self.linear_layer3 = nn.Linear(500, 500)\n",
    "        self.linear_layer4 = nn.Linear(500, 1)\n",
    "\n",
    "    def forward(self, x):\n",
    "        y_hat = None\n",
    "        x = F.relu(self.linear_layer1(x))\n",
    "        x = F.relu(self.linear_layer2(x))\n",
    "        x = F.relu(self.linear_layer3(x))\n",
    "        y_hat = self.linear_layer4(x)\n",
    "        return y_hat\n",
    "\n",
    "deep_model3 = DeepRegressionModel3(X_train.shape[1])\n",
    "\n",
    "\n",
    "optimizer = torch.optim.SGD(deep_model3.parameters(), lr=0.00001)\n",
    "print_model_architecture(deep_model3, \"Model 3: Learning rate 0.00001\")\n",
    "\n",
    "train_losses7, test_losses7 = train_and_test_model(deep_model3, \n",
    "                                                 X_train, y_train, \n",
    "                                                 X_test, y_test, \n",
    "                                                 num_epochs, \n",
    "                                                 criterion, \n",
    "                                                 optimizer)\n",
    "\n",
    "\n",
    "optimizer = torch.optim.SGD(deep_model3.parameters(), lr=0.001)\n",
    "print_model_architecture(deep_model3, \"Model 3: Learning rate 0.001\")\n",
    "\n",
    "train_losses8, test_losses8 = train_and_test_model(deep_model3, \n",
    "                                                 X_train, y_train, \n",
    "                                                 X_test, y_test, \n",
    "                                                 num_epochs, \n",
    "                                                 criterion, \n",
    "                                                 optimizer)\n",
    "\n",
    "optimizer = torch.optim.SGD(deep_model3.parameters(), lr=0.000000001)\n",
    "print_model_architecture(deep_model3, \"Model 3: Learning rate 0.000000001\")\n",
    "\n",
    "train_losses9, test_losses9 = train_and_test_model(deep_model3, \n",
    "                                                 X_train, y_train, \n",
    "                                                 X_test, y_test, \n",
    "                                                 num_epochs, \n",
    "                                                 criterion, \n",
    "                                                 optimizer)"
   ]
  },
  {
   "cell_type": "code",
   "execution_count": 16,
   "metadata": {},
   "outputs": [
    {
     "data": {
      "image/png": "[encoded data removed]",
      "text/plain": [
       "<Figure size 1500x1500 with 9 Axes>"
      ]
     },
     "metadata": {},
     "output_type": "display_data"
    }
   ],
   "source": [
    "fig, axes = plt.subplots(3, 3, figsize=(15, 15))\n",
    "\n",
    "axes[0, 0].plot(train_losses4, label='Training loss')\n",
    "axes[0, 0].plot(np.arange(0, num_epochs, 100), test_losses4, label='Test loss')\n",
    "axes[0, 0].set_title('Learning Rate: 0.00001')\n",
    "axes[0, 0].set_xlabel('Epochs')\n",
    "axes[0, 0].set_ylabel('Loss')\n",
    "axes[0, 0].legend()\n",
    "\n",
    "axes[0, 1].plot(train_losses5, label='Training loss')\n",
    "axes[0, 1].plot(np.arange(0, num_epochs, 100), test_losses5, label='Test loss')\n",
    "axes[0, 1].set_title('Learning Rate: 0.001')\n",
    "axes[0, 1].set_xlabel('Epochs')\n",
    "axes[0, 1].set_ylabel('Loss')\n",
    "axes[0, 1].legend()\n",
    "\n",
    "axes[0, 2].plot(train_losses6, label='Training loss')\n",
    "axes[0, 2].plot(np.arange(0, num_epochs, 100), test_losses6, label='Test loss')\n",
    "axes[0, 2].set_title('Learning Rate: 0.000000001')\n",
    "axes[0, 2].set_xlabel('Epochs')\n",
    "axes[0, 2].set_ylabel('Loss')\n",
    "axes[0, 2].legend()\n",
    "\n",
    "axes[1, 0].plot(train_losses1, label='Training loss')\n",
    "axes[1, 0].plot(np.arange(0, num_epochs, 100), test_losses1, label='Test loss')\n",
    "axes[1, 0].set_title('Learning Rate: 0.00001 (Deep Model)')\n",
    "axes[1, 0].set_xlabel('Epochs')\n",
    "axes[1, 0].set_ylabel('Loss')\n",
    "axes[1, 0].legend()\n",
    "\n",
    "axes[1, 1].plot(train_losses2, label='Training loss')\n",
    "axes[1, 1].plot(np.arange(0, num_epochs, 100), test_losses2, label='Test loss')\n",
    "axes[1, 1].set_title('Learning Rate: 0.001 (Deep Model)')\n",
    "axes[1, 1].set_xlabel('Epochs')\n",
    "axes[1, 1].set_ylabel('Loss')\n",
    "axes[1, 1].legend()\n",
    "\n",
    "axes[1, 2].plot(train_losses3, label='Training loss')\n",
    "axes[1, 2].plot(np.arange(0, num_epochs, 100), test_losses3, label='Test loss')\n",
    "axes[1, 2].set_title('Learning Rate: 0.000000001 (Deep Model)')\n",
    "axes[1, 2].set_xlabel('Epochs')\n",
    "axes[1, 2].set_ylabel('Loss')\n",
    "axes[1, 2].legend()\n",
    "\n",
    "axes[2, 0].plot(train_losses7, label='Training loss')\n",
    "axes[2, 0].plot(np.arange(0, num_epochs, 100), test_losses7, label='Test loss')\n",
    "axes[2, 0].set_title('Learning Rate: 0.00001 (Deep Model 2)')\n",
    "axes[2, 0].set_xlabel('Epochs')\n",
    "axes[2, 0].set_ylabel('Loss')\n",
    "axes[2, 0].legend()\n",
    "\n",
    "axes[2, 1].plot(train_losses8, label='Training loss')\n",
    "axes[2, 1].plot(np.arange(0, num_epochs, 100), test_losses8, label='Test loss')\n",
    "axes[2, 1].set_title('Learning Rate: 0.001 (Deep Model 2)')\n",
    "axes[2, 1].set_xlabel('Epochs')\n",
    "axes[2, 1].set_ylabel('Loss')\n",
    "axes[2, 1].legend()\n",
    "\n",
    "axes[2, 2].plot(train_losses9, label='Training loss')\n",
    "axes[2, 2].plot(np.arange(0, num_epochs, 100), test_losses9, label='Test loss')\n",
    "axes[2, 2].set_title('Learning Rate: 0.000000001 (Deep Model 2)')\n",
    "axes[2, 2].set_xlabel('Epochs')\n",
    "axes[2, 2].set_ylabel('Loss')\n",
    "axes[2, 2].legend()\n",
    "\n",
    "plt.tight_layout()\n",
    "\n",
    "plt.show()"
   ]
  },
  {
   "cell_type": "markdown",
   "metadata": {},
   "source": [
    "### Theoretical Question\n",
    "\n",
    "Observe and document how each architecture and learning rate affects the training and test losses. Your observations might include outcomes like incomplete training, model convergence or divergence and the loss values (on the training and testing) at the end of training. Explain the reasons behind the different behaviors observed at each learning rate."
   ]
  },
  {
   "cell_type": "markdown",
   "metadata": {},
   "source": [
    "### Your answer \n",
    "\n",
    "Answer: As I mentioned before, high learning rates may induce divergence, (it seems that especially for more complex models), while low rates can result in sluggish convergence, potentially entailing confinement to a local minimum. <br>\n",
    "It seems that more complex models appear to exhibit heightened sensitivity to learning rates, whereas simpler models demonstrate a greater capacity to withstand a broader spectrum of learning rates without encountering severe complications. <br>\n",
    "Much like various aspects of life, striking the right balance is imperative."
   ]
  },
  {
   "cell_type": "markdown",
   "metadata": {},
   "source": [
    "## Part 2: Image Classification"
   ]
  },
  {
   "cell_type": "code",
   "execution_count": 18,
   "metadata": {},
   "outputs": [
    {
     "data": {
      "text/plain": [
       "device(type='cpu')"
      ]
     },
     "execution_count": 18,
     "metadata": {},
     "output_type": "execute_result"
    }
   ],
   "source": [
    "import torch\n",
    "import torchvision\n",
    "import torchvision.transforms as transforms\n",
    "import matplotlib.pyplot as plt\n",
    "import numpy as np\n",
    "import torch.optim as optim\n",
    "import torch.nn as nn\n",
    "import torch.nn.functional as F\n",
    "\n",
    "device = torch.device('cuda' if torch.cuda.is_available() else 'cpu')\n",
    "device"
   ]
  },
  {
   "cell_type": "markdown",
   "metadata": {
    "id": "IRZEu-MX9esf"
   },
   "source": [
    "PyTorch comes with several datasets ready for use in the torchvision package. This feature is highly usefull since obtaining and preprocessing datasets can be tedious and time consuming. The following commands will download the famous [MNIST](http://yann.lecun.com/exdb/mnist/) dataset to your computer. Notice the parameters for the `DataLoader` function: we specify the root folder in which the dataset will be downloaded to. We use two different datasets - one for training and one for testing. Since neural networks can easily learn complex functions, we need to test the generalization capabilities of our network using data it have not seen before. Most mertics use the test data to measure how well the network perform. The `batch_size` parameter determines the number of images and their corresponding labels in each batch."
   ]
  },
  {
   "cell_type": "code",
   "execution_count": 19,
   "metadata": {
    "colab": {
     "base_uri": "https://localhost:8080/",
     "height": 423,
     "referenced_widgets": [
      "703ad8cbe80f4174bb2b5e7da394ddfd",
      "9d57f35200d1480d8fef011eaf0757ac",
      "0111535a536b438dab7fc9b620f50e50",
      "5c0786634da940d490bc24115bceb823",
      "7e0e1d2bffd24b09b8e0682d9161bdd6",
      "00b11aa644c748af9573495bf099c786",
      "6cf2f9532e9046fabd5f1a14990aaabd",
      "67a93600a69c4598af2a3926b673cd86",
      "0cb1423a5e0749ccb0665c80d1ea7b6b",
      "f3f8392915474865b66d8902208911ab",
      "59afbcfee179452784de5041a5d94988",
      "a9e619c8e328445aa1d131cc206cea29",
      "4009eaae3d484fea9620383264126fca",
      "437f0f263457448e8d2ea3aecc675aa0",
      "ce80d6c4539746128dd8f847fea32f39",
      "dd35443dbcd44ee587da1243b908e207",
      "b631c2d11a5e40839c289f5845cefcc1",
      "89eba9ed70604b599b402ea5328593db",
      "9b9067e9fa5d450c8cbe5860ad35af95",
      "fa6387101b4c46cd8b7098a06d4e4d86",
      "06bfbb8dba7348fdb78ae067fe40d3f2",
      "eb9c1cc6bc1f40b18f542dedc6e83d35",
      "2bdee9cb5cfe498596c112b8e7e218f5",
      "43e7dd41116e49928c6f8e9a69d71790",
      "66774e130d744545ad5efd3355faad9e",
      "790a40374b6749ee86edebd8549298e9",
      "094dd2afee5a47949ad1e0dbc1e6f06a",
      "0aed64e42b86451694947a8bc454795a",
      "db048f7ee9a14c8a82b56afacdf99127",
      "9ffd3842708f448bb68503c41f46f178",
      "60f59105e2174f3ca9134513f13b9612",
      "77667c6fb97f413eacec376aaa1c8632",
      "6ae38138a03845ed9029110e84505c09",
      "35bf409a35ff46a9be6af7ae740dfaa7",
      "ee3cc2ebe25b4ef984ec6aa935639706",
      "85e60e735d814fa7944837e1f5fc4aec",
      "09c727144e4840febd95834dd756d98c",
      "4edab961f24f4bc3842296e2c218b900",
      "cf0f3c2207724049bc2ce855820c0f8e",
      "e0fddbf38f7043f9a288030834b76eb8",
      "63bcef63dff14981aed685aee53bf5de",
      "8c4588dee31942068f08b3c13af6ff5d",
      "406b11f044b8473b8b5df45725a2ee73",
      "9675a3d23d484c8ea3c7ca35dc62baa6"
     ]
    },
    "id": "JfDs_i9I9bcQ",
    "outputId": "b9246cc2-8454-4f66-f29d-36bc8338a32c"
   },
   "outputs": [],
   "source": [
    "# Transforms is a usefull library containing many operations on images.\n",
    "# Since the MNIST dataset is stored as PIL images, we need to transform it into tensors\n",
    "transform = transforms.Compose([transforms.ToTensor()])\n",
    "\n",
    "mnist_dataset_train = torchvision.datasets.MNIST(root='./data', train=True, download=True, transform=transform)\n",
    "mnist_trainloader = torch.utils.data.DataLoader(mnist_dataset_train, batch_size=4, shuffle=True, num_workers=2)\n",
    "mnist_dataset_test = torchvision.datasets.MNIST(root='./data', train=False, download=True, transform=transform)\n",
    "mnist_testloader = torch.utils.data.DataLoader(mnist_dataset_test, batch_size=4, shuffle=True, num_workers=2)\n",
    "\n",
    "classes = [x for x in range(10)] # We use this notation for easy code recycling"
   ]
  },
  {
   "cell_type": "markdown",
   "metadata": {
    "id": "BEoZwgI09lGo"
   },
   "source": [
    "We will use a simple function to display the images in our dataset. Since PyTorch saves images in a channels first format, we need to rearrange the tensor using `np.transpose()` function. The following code snippet"
   ]
  },
  {
   "cell_type": "code",
   "execution_count": 20,
   "metadata": {
    "colab": {
     "base_uri": "https://localhost:8080/",
     "height": 207
    },
    "id": "JRt2LduV9hu4",
    "outputId": "ca9cd9b4-3744-48e6-a958-79bab6329db1"
   },
   "outputs": [
    {
     "name": "stdout",
     "output_type": "stream",
     "text": [
      "torch.Size([4, 1, 28, 28])\n",
      "Ground Truth:     4     6     8     4\n"
     ]
    },
    {
     "data": {
      "image/png": "[encoded data removed]",
      "text/plain": [
       "<Figure size 640x480 with 1 Axes>"
      ]
     },
     "metadata": {},
     "output_type": "display_data"
    }
   ],
   "source": [
    "def imshow(img):\n",
    "    npimg = img.numpy()\n",
    "    plt.imshow(np.transpose(npimg, (1, 2, 0)))\n",
    "\n",
    "dataiter = iter(mnist_trainloader)\n",
    "images, labels = next(dataiter)\n",
    "print(images.shape)\n",
    "imshow(torchvision.utils.make_grid(images))\n",
    "print('Ground Truth:',' '.join('%5s' % classes[labels[j]] for j in range(4)))"
   ]
  },
  {
   "cell_type": "code",
   "execution_count": 21,
   "metadata": {
    "colab": {
     "base_uri": "https://localhost:8080/"
    },
    "id": "U_wVVr_UbNNU",
    "outputId": "44b38213-ba8d-45f2-b0ae-948346e4cce1"
   },
   "outputs": [
    {
     "data": {
      "text/plain": [
       "(torch.Tensor, torch.Tensor)"
      ]
     },
     "execution_count": 21,
     "metadata": {},
     "output_type": "execute_result"
    }
   ],
   "source": [
    "type(images[0][0][0]), type(labels[0])"
   ]
  },
  {
   "cell_type": "code",
   "execution_count": 22,
   "metadata": {
    "colab": {
     "base_uri": "https://localhost:8080/"
    },
    "id": "ZdP9M7Wvf2nb",
    "outputId": "20ea8215-c702-4df9-dcb1-57b766fba4f9"
   },
   "outputs": [
    {
     "data": {
      "text/plain": [
       "tensor([4, 6, 8, 4])"
      ]
     },
     "execution_count": 22,
     "metadata": {},
     "output_type": "execute_result"
    }
   ],
   "source": [
    "labels"
   ]
  },
  {
   "cell_type": "code",
   "execution_count": 23,
   "metadata": {
    "id": "feQjEXmO9nR7"
   },
   "outputs": [],
   "source": [
    "import torch.nn as nn\n",
    "import torch.nn.functional as F\n",
    "\n",
    "class MNIST_Net(nn.Module):\n",
    "    '''\n",
    "    Define the basic architecture of your network. \n",
    "    For now, you should only use fully connected layers.\n",
    "    '''\n",
    "    def __init__(self):\n",
    "        super(MNIST_Net, self).__init__()\n",
    "        n_features = 1 * 28 * 28\n",
    "        self.layer1 = nn.Linear(n_features, n_features)\n",
    "        self.layer2 = nn.Linear(n_features, n_features)\n",
    "        self.layer3 = nn.Linear(n_features, n_features)\n",
    "        self.layer4 = nn.Linear(n_features, n_features)\n",
    "        self.layer5 = nn.Linear(n_features, 10)\n",
    "        \n",
    "    def forward(self, x):\n",
    "        y_hat = None\n",
    "\n",
    "        x = x.view(-1, 784)\n",
    "        \n",
    "        x = F.relu(self.layer1(x))\n",
    "        x = F.relu(self.layer2(x))\n",
    "        x = F.relu(self.layer3(x))\n",
    "        x = F.relu(self.layer4(x))\n",
    "        y_hat = self.layer5(x)\n",
    "        \n",
    "\n",
    "        return y_hat\n",
    "    \n",
    "mnist_net = MNIST_Net().to(device)"
   ]
  },
  {
   "cell_type": "code",
   "execution_count": 24,
   "metadata": {
    "id": "1257u9v292h9"
   },
   "outputs": [],
   "source": [
    "import torch.optim as optim\n",
    "\n",
    "criterion = nn.CrossEntropyLoss()\n",
    "optimizer = optim.SGD(mnist_net.parameters(), lr=0.001)"
   ]
  },
  {
   "cell_type": "code",
   "execution_count": 25,
   "metadata": {
    "id": "QmoD3RAP94xx"
   },
   "outputs": [],
   "source": [
    "def train_network(net, critertion, optimizer, trainloader):\n",
    "    net.train()\n",
    "  \n",
    "    for epoch in range(2):\n",
    "        running_loss = 0.0\n",
    "        for i, data in enumerate(trainloader, 0):\n",
    "            \n",
    "            # get the inputs from the dataloader\n",
    "            inputs, labels = data\n",
    "            inputs, labels = inputs.to(device), labels.to(device)\n",
    "\n",
    "            # zero the parameter gradients\n",
    "            optimizer.zero_grad()\n",
    "            \n",
    "            # forward + backward + optimize\n",
    "            y_hat = net.forward(inputs)\n",
    "            loss = criterion(y_hat, labels)\n",
    "            loss.backward()\n",
    "            optimizer.step()\n",
    "            \n",
    "            # print statistics\n",
    "            running_loss += loss.item()\n",
    "            if i % 2000 == 1999:    # print every 2000 mini-batches\n",
    "                print('[%d, %5d] loss: %.3f' %\n",
    "                      (epoch + 1, i + 1, running_loss / 2000))\n",
    "                running_loss = 0.0\n",
    "    print('Finished Training')\n",
    "  "
   ]
  },
  {
   "cell_type": "code",
   "execution_count": 26,
   "metadata": {
    "colab": {
     "base_uri": "https://localhost:8080/"
    },
    "id": "Kv7pMYYu95lc",
    "outputId": "52e6f528-782e-4bc0-8a27-0d24d2372efa"
   },
   "outputs": [
    {
     "name": "stdout",
     "output_type": "stream",
     "text": [
      "[1,  2000] loss: 2.302\n",
      "[1,  4000] loss: 2.295\n",
      "[1,  6000] loss: 2.288\n",
      "[1,  8000] loss: 2.275\n",
      "[1, 10000] loss: 2.249\n",
      "[1, 12000] loss: 2.182\n",
      "[1, 14000] loss: 1.963\n",
      "[2,  2000] loss: 1.206\n",
      "[2,  4000] loss: 0.845\n",
      "[2,  6000] loss: 0.677\n",
      "[2,  8000] loss: 0.580\n",
      "[2, 10000] loss: 0.529\n",
      "[2, 12000] loss: 0.470\n",
      "[2, 14000] loss: 0.444\n",
      "Finished Training\n",
      "CPU times: user 4min 27s, sys: 7min 57s, total: 12min 25s\n",
      "Wall time: 2min 40s\n"
     ]
    }
   ],
   "source": [
    "%%time\n",
    "train_network(mnist_net, criterion, optimizer, mnist_trainloader)"
   ]
  },
  {
   "cell_type": "markdown",
   "metadata": {
    "id": "O2sJYf00-ANi"
   },
   "source": [
    "If everything works, the loss of the network should improved over time as it learns to classify hand-written digits.\n",
    "In order to measure how well the network performs, we need the test dataset.\n",
    "We classify each image in the test dataset (that the network never saw) and calculate the accuracy of the network. A good model should generalize and perform well even on data that was not seen during training."
   ]
  },
  {
   "cell_type": "code",
   "execution_count": 27,
   "metadata": {
    "colab": {
     "base_uri": "https://localhost:8080/"
    },
    "id": "u7G32mpK9-ee",
    "outputId": "4425ecf4-cf59-4a62-9c11-0679da52b70e"
   },
   "outputs": [
    {
     "name": "stdout",
     "output_type": "stream",
     "text": [
      "Accuracy of the network on the 10000 test images: 88 %\n"
     ]
    }
   ],
   "source": [
    "def calc_net_accuracy(net, testloader):\n",
    "    net.eval()\n",
    "    with torch.no_grad():\n",
    "        correct = 0\n",
    "        total = 0\n",
    "        for data in testloader:\n",
    "            images, labels = data\n",
    "            images = images.to(device)\n",
    "            labels = labels.to(device)\n",
    "            outputs = net(images)\n",
    "            _, predicted = torch.max(outputs.data, 1)\n",
    "            total += labels.size(0)\n",
    "            correct += (predicted == labels).sum().item()\n",
    "    print('Accuracy of the network on the 10000 test images: %d %%' % (100 * correct / total))\n",
    "\n",
    "calc_net_accuracy(mnist_net, mnist_testloader)"
   ]
  },
  {
   "cell_type": "markdown",
   "metadata": {
    "id": "7eWndr96-F_n"
   },
   "source": [
    "A simple network can achieve results of over 95%. Try several network architectures until you reach at least 93% accuracy.\n",
    "\n",
    "We can also take a batch and visualize the predictions:"
   ]
  },
  {
   "cell_type": "code",
   "execution_count": 28,
   "metadata": {
    "colab": {
     "base_uri": "https://localhost:8080/",
     "height": 207
    },
    "id": "FsinBH_q-G81",
    "outputId": "0f1bf8b9-fcb8-41fc-9837-26aff9836e88"
   },
   "outputs": [
    {
     "name": "stdout",
     "output_type": "stream",
     "text": [
      "Ground Truth:      7     1     0     1\n",
      "Predicted   :      7     1     0     1\n"
     ]
    },
    {
     "data": {
      "image/png": "[encoded data removed]",
      "text/plain": [
       "<Figure size 640x480 with 1 Axes>"
      ]
     },
     "metadata": {},
     "output_type": "display_data"
    }
   ],
   "source": [
    "dataiter = iter(mnist_testloader)\n",
    "images, labels = next(dataiter)\n",
    "\n",
    "# print images\n",
    "imshow(torchvision.utils.make_grid(images))\n",
    "print('Ground Truth: ', ' '.join('%5s' % classes[labels[j]] for j in range(4)))\n",
    "\n",
    "outputs = mnist_net(images.to(device))\n",
    "_, predicted = torch.max(outputs, 1)\n",
    "print('Predicted   : ', ' '.join('%5s' % classes[predicted[j]] for j in range(4)))"
   ]
  },
  {
   "cell_type": "markdown",
   "metadata": {
    "id": "355K-lYC-JMr"
   },
   "source": [
    "We can also check the individual classification scores for each class in the dataset."
   ]
  },
  {
   "cell_type": "code",
   "execution_count": 29,
   "metadata": {
    "colab": {
     "base_uri": "https://localhost:8080/"
    },
    "id": "uchQ5yzN-KSO",
    "outputId": "a3f41fe8-b18f-4014-9291-7cde643e1b47"
   },
   "outputs": [
    {
     "name": "stdout",
     "output_type": "stream",
     "text": [
      "Accuracy of     0 : 96 %\n",
      "Accuracy of     1 : 97 %\n",
      "Accuracy of     2 : 90 %\n",
      "Accuracy of     3 : 87 %\n",
      "Accuracy of     4 : 89 %\n",
      "Accuracy of     5 : 77 %\n",
      "Accuracy of     6 : 91 %\n",
      "Accuracy of     7 : 86 %\n",
      "Accuracy of     8 : 83 %\n",
      "Accuracy of     9 : 80 %\n"
     ]
    }
   ],
   "source": [
    "def calc_class_accuracy(net, testloader):\n",
    "    net.eval()\n",
    "    class_correct = list(0. for i in range(10))\n",
    "    class_total = list(0. for i in range(10))\n",
    "    with torch.no_grad():\n",
    "        for data in testloader:\n",
    "            images, labels = data\n",
    "            images = images.to(device)\n",
    "            labels = labels.to(device)\n",
    "            outputs = net(images)\n",
    "            _, predicted = torch.max(outputs, 1)\n",
    "            c = (predicted == labels).squeeze()\n",
    "            for i in range(4):\n",
    "                label = labels[i]\n",
    "                class_correct[label] += c[i].item()\n",
    "                class_total[label] += 1\n",
    "    for i in range(10):\n",
    "        print('Accuracy of %5s : %2d %%' % (classes[i], 100 * class_correct[i] / class_total[i]))\n",
    "\n",
    "calc_class_accuracy(mnist_net, mnist_testloader)"
   ]
  },
  {
   "cell_type": "markdown",
   "metadata": {},
   "source": [
    "### improvement attempts-"
   ]
  },
  {
   "cell_type": "code",
   "execution_count": 30,
   "metadata": {},
   "outputs": [
    {
     "name": "stdout",
     "output_type": "stream",
     "text": [
      "Lower learining rate - 0.0001:\n",
      "[1,  2000] loss: 0.426\n",
      "[1,  4000] loss: 0.383\n",
      "[1,  6000] loss: 0.396\n",
      "[1,  8000] loss: 0.384\n",
      "[1, 10000] loss: 0.407\n",
      "[1, 12000] loss: 0.418\n",
      "[1, 14000] loss: 0.407\n",
      "[2,  2000] loss: 0.400\n",
      "[2,  4000] loss: 0.393\n",
      "[2,  6000] loss: 0.383\n",
      "[2,  8000] loss: 0.390\n",
      "[2, 10000] loss: 0.391\n",
      "[2, 12000] loss: 0.377\n",
      "[2, 14000] loss: 0.381\n",
      "Finished Training\n",
      "Accuracy of the network on the 10000 test images: 89 %\n",
      "Higher learining rate - 0.01:\n",
      "[1,  2000] loss: 0.410\n",
      "[1,  4000] loss: 0.312\n",
      "[1,  6000] loss: 0.240\n",
      "[1,  8000] loss: 0.219\n",
      "[1, 10000] loss: 0.176\n",
      "[1, 12000] loss: 0.170\n",
      "[1, 14000] loss: 0.145\n",
      "[2,  2000] loss: 0.114\n",
      "[2,  4000] loss: 0.110\n",
      "[2,  6000] loss: 0.110\n",
      "[2,  8000] loss: 0.107\n",
      "[2, 10000] loss: 0.104\n",
      "[2, 12000] loss: 0.100\n",
      "[2, 14000] loss: 0.094\n",
      "Finished Training\n",
      "Accuracy of the network on the 10000 test images: 96 %\n"
     ]
    }
   ],
   "source": [
    "print('Lower learining rate - 0.0001:')\n",
    "optimizer = optim.SGD(mnist_net.parameters(), lr=0.0001)\n",
    "train_network(mnist_net, criterion, optimizer, mnist_trainloader)\n",
    "calc_net_accuracy(mnist_net, mnist_testloader)\n",
    "\n",
    "print('Higher learining rate - 0.01:')\n",
    "optimizer = optim.SGD(mnist_net.parameters(), lr=0.01)\n",
    "train_network(mnist_net, criterion, optimizer, mnist_trainloader)\n",
    "calc_net_accuracy(mnist_net, mnist_testloader)"
   ]
  },
  {
   "cell_type": "code",
   "execution_count": 31,
   "metadata": {},
   "outputs": [
    {
     "name": "stdout",
     "output_type": "stream",
     "text": [
      "removing layear with learining rate - 0.0001:\n",
      "[1,  2000] loss: 2.301\n",
      "[1,  4000] loss: 2.299\n",
      "[1,  6000] loss: 2.296\n",
      "[1,  8000] loss: 2.293\n",
      "[1, 10000] loss: 2.290\n",
      "[1, 12000] loss: 2.288\n",
      "[1, 14000] loss: 2.284\n",
      "[2,  2000] loss: 2.280\n",
      "[2,  4000] loss: 2.276\n",
      "[2,  6000] loss: 2.273\n",
      "[2,  8000] loss: 2.269\n",
      "[2, 10000] loss: 2.265\n",
      "[2, 12000] loss: 2.260\n",
      "[2, 14000] loss: 2.255\n",
      "Finished Training\n",
      "Accuracy of the network on the 10000 test images: 56 %\n",
      "removing layear with learining rate - 0.001:\n",
      "[1,  2000] loss: 2.205\n",
      "[1,  4000] loss: 2.005\n",
      "[1,  6000] loss: 1.460\n",
      "[1,  8000] loss: 0.926\n",
      "[1, 10000] loss: 0.695\n",
      "[1, 12000] loss: 0.596\n",
      "[1, 14000] loss: 0.488\n",
      "[2,  2000] loss: 0.452\n",
      "[2,  4000] loss: 0.416\n",
      "[2,  6000] loss: 0.412\n",
      "[2,  8000] loss: 0.381\n",
      "[2, 10000] loss: 0.366\n",
      "[2, 12000] loss: 0.367\n",
      "[2, 14000] loss: 0.338\n",
      "Finished Training\n",
      "Accuracy of the network on the 10000 test images: 90 %\n",
      "removing layear with learining rate with learining rate - 0.01:\n",
      "[1,  2000] loss: 0.365\n",
      "[1,  4000] loss: 0.278\n",
      "[1,  6000] loss: 0.245\n",
      "[1,  8000] loss: 0.208\n",
      "[1, 10000] loss: 0.188\n",
      "[1, 12000] loss: 0.158\n",
      "[1, 14000] loss: 0.155\n",
      "[2,  2000] loss: 0.131\n",
      "[2,  4000] loss: 0.116\n",
      "[2,  6000] loss: 0.108\n",
      "[2,  8000] loss: 0.099\n",
      "[2, 10000] loss: 0.101\n",
      "[2, 12000] loss: 0.096\n",
      "[2, 14000] loss: 0.103\n",
      "Finished Training\n",
      "Accuracy of the network on the 10000 test images: 96 %\n"
     ]
    }
   ],
   "source": [
    "class MNIST_Net(nn.Module):\n",
    "    '''\n",
    "    Define the basic architecture of your network. \n",
    "    For now, you should only use fully connected layers.\n",
    "    '''\n",
    "    def __init__(self):\n",
    "        super(MNIST_Net, self).__init__()\n",
    "        n_features = 1 * 28 * 28 # C*H*W\n",
    "        self.layer1 = nn.Linear(n_features, n_features)\n",
    "        self.layer2 = nn.Linear(n_features, n_features)\n",
    "        self.layer3 = nn.Linear(n_features, n_features)\n",
    "        self.layer4 = nn.Linear(n_features, 10)\n",
    "        \n",
    "    def forward(self, x):\n",
    "        y_hat = None\n",
    "\n",
    "        x = x.view(-1, 784)\n",
    "        \n",
    "        x = F.relu(self.layer1(x))\n",
    "        x = F.relu(self.layer2(x))\n",
    "        x = F.relu(self.layer3(x))\n",
    "        y_hat = self.layer4(x)\n",
    "        \n",
    "\n",
    "        return y_hat\n",
    "    \n",
    "mnist_net = MNIST_Net().to(device)\n",
    "print('removing layear with learining rate - 0.0001:')\n",
    "optimizer = optim.SGD(mnist_net.parameters(), lr=0.0001)\n",
    "train_network(mnist_net, criterion, optimizer, mnist_trainloader)\n",
    "calc_net_accuracy(mnist_net, mnist_testloader)\n",
    "\n",
    "print('removing layear with learining rate - 0.001:')\n",
    "optimizer = optim.SGD(mnist_net.parameters(), lr=0.001)\n",
    "train_network(mnist_net, criterion, optimizer, mnist_trainloader)\n",
    "calc_net_accuracy(mnist_net, mnist_testloader)\n",
    "\n",
    "print('removing layear with learining rate with learining rate - 0.01:')\n",
    "optimizer = optim.SGD(mnist_net.parameters(), lr=0.01)\n",
    "train_network(mnist_net, criterion, optimizer, mnist_trainloader)\n",
    "calc_net_accuracy(mnist_net, mnist_testloader)"
   ]
  },
  {
   "cell_type": "markdown",
   "metadata": {},
   "source": [
    "**First of all I was able to achieve greater than 95% accuracy!**<br>\n",
    "Again we saw that a more complex network was more sensitive to learning rate and the less complex network was less sensitive. But finally, for the same learning rate the same network presented the same results."
   ]
  },
  {
   "cell_type": "markdown",
   "metadata": {
    "id": "VYG93c_Q-NV-"
   },
   "source": [
    "We have implemented a simple neural network in PyTorch that predicts hand-written characters that scores over 95% in a matter of seconds. Next, we try to use the same network with more complicated data. This time, we will use [CIFAR-10](https://www.cs.toronto.edu/~kriz/cifar.html). This dataset consists of 60,000 32x32 color images in 10 classes, with 6,000 images per class.\n",
    "\n",
    "# CIFAR-10"
   ]
  },
  {
   "cell_type": "code",
   "execution_count": 32,
   "metadata": {
    "colab": {
     "base_uri": "https://localhost:8080/",
     "height": 101,
     "referenced_widgets": [
      "8d88a64a0b7c4950beda8056e21559cf",
      "56fae14fa44749a09a84bc17f8b692ae",
      "2a9c064601eb4cae8ef88b757fee422c",
      "90fa1b9cdb5a4a489e9b468fcd510a02",
      "a4621304147b4372938074e6bb307e14",
      "c8edf9840b0148ab8ba95d5c94840adf",
      "2aebad16af52456091ef84a8404d597f",
      "243aac5e94a94d73a202ae41708dc420",
      "d41f1cd3317f438598923e3f2dd3e497",
      "c61836b9cfb84b68961b1cf33fb11a21",
      "139138b946794e1992ea1940bdf8fd9e"
     ]
    },
    "id": "6A-ni4iJ-PDd",
    "outputId": "db30278c-aa4e-46b9-c141-ea732a024e8b"
   },
   "outputs": [
    {
     "name": "stdout",
     "output_type": "stream",
     "text": [
      "Files already downloaded and verified\n",
      "Files already downloaded and verified\n"
     ]
    }
   ],
   "source": [
    "transform = transforms.Compose(\n",
    "    [transforms.ToTensor(),\n",
    "     transforms.Normalize((0.5, 0.5, 0.5), (0.5, 0.5, 0.5))])\n",
    "\n",
    "cifar_trainset = torchvision.datasets.CIFAR10(root='./data', train=True, download=True, transform=transform)\n",
    "cifar_trainloader = torch.utils.data.DataLoader(cifar_trainset, batch_size=32, shuffle=True, num_workers=2)\n",
    "\n",
    "cifar_testset = torchvision.datasets.CIFAR10(root='./data', train=False, download=True, transform=transform)\n",
    "cifar_testloader = torch.utils.data.DataLoader(cifar_testset, batch_size=32, shuffle=False, num_workers=2)\n",
    "\n",
    "classes = ('plane', 'car', 'bird', 'cat', 'deer', 'dog', 'frog', 'horse', 'ship', 'truck')"
   ]
  },
  {
   "cell_type": "code",
   "execution_count": 33,
   "metadata": {
    "colab": {
     "base_uri": "https://localhost:8080/",
     "height": 155
    },
    "id": "utyOoCa_-Q_r",
    "outputId": "4c344483-4318-4251-c5d3-38c0f72ab93b"
   },
   "outputs": [
    {
     "name": "stdout",
     "output_type": "stream",
     "text": [
      "       car        cat      plane      truck\n"
     ]
    },
    {
     "data": {
      "image/png": "[encoded data removed]",
      "text/plain": [
       "<Figure size 640x480 with 1 Axes>"
      ]
     },
     "metadata": {},
     "output_type": "display_data"
    }
   ],
   "source": [
    "# functions to show an image\n",
    "def imshow(img):\n",
    "    img = img / 2 + 0.5     # unnormalize\n",
    "    npimg = img.numpy()\n",
    "    plt.imshow(np.transpose(npimg, (1, 2, 0)))\n",
    "\n",
    "# get some random training images\n",
    "dataiter = iter(cifar_trainloader)\n",
    "images, labels = next(dataiter)\n",
    "\n",
    "# show images\n",
    "imshow(torchvision.utils.make_grid(images[:4]))\n",
    "# print labels\n",
    "print(' '.join('%10s' % classes[labels[j]] for j in range(4)))"
   ]
  },
  {
   "cell_type": "code",
   "execution_count": 34,
   "metadata": {
    "id": "hugko4rA-WqA"
   },
   "outputs": [],
   "source": [
    "class CIFAR_Net(nn.Module):\n",
    "\n",
    "\n",
    "    def __init__(self):\n",
    "        super(CIFAR_Net, self).__init__()\n",
    "        n_features = 3 * 32 * 32 # C*H*W\n",
    "        \n",
    "        self.layer1 = nn.Linear(n_features, n_features)\n",
    "        self.layer2 = nn.Linear(n_features, n_features)\n",
    "        self.layer3 = nn.Linear(n_features, n_features)\n",
    "        self.layer4 = nn.Linear(n_features, 10)\n",
    "\n",
    "    def forward(self, x):\n",
    "        y_hat = None\n",
    "       \n",
    "        x = x.view(-1, 3 * 32 * 32)\n",
    "        \n",
    "        x = F.relu(self.layer1(x))\n",
    "        x = F.relu(self.layer2(x))\n",
    "        x = F.relu(self.layer3(x))\n",
    "        y_hat = self.layer4(x)\n",
    "       \n",
    "        return y_hat\n",
    "\n",
    "\n",
    "cifar_net = CIFAR_Net().to(device)\n",
    "criterion = nn.CrossEntropyLoss()\n",
    "optimizer = optim.SGD(cifar_net.parameters(), lr=0.01, momentum=0.9)"
   ]
  },
  {
   "cell_type": "code",
   "execution_count": 35,
   "metadata": {
    "id": "wKS3xsfC-YFp"
   },
   "outputs": [],
   "source": [
    "def train_network(net, critertion, optimizer, trainloader):\n",
    "    net.train()\n",
    "\n",
    "    device = torch.device(\"cuda:0\" if torch.cuda.is_available() else \"cpu\")\n",
    "    print(device)\n",
    "    for epoch in range(15):\n",
    "        running_loss = 0.0\n",
    "        for i, data in enumerate(trainloader, 0):\n",
    "            # get the inputs from the dataloader\n",
    "            inputs, labels = data\n",
    "            inputs, labels = inputs.to(device), labels.to(device)\n",
    "\n",
    "            # zero the parameter gradients\n",
    "            optimizer.zero_grad()\n",
    "            \n",
    "            # forward + backward + optimize\n",
    "            y_hat = net.forward(inputs)\n",
    "            loss = criterion(y_hat, labels)\n",
    "            loss.backward()\n",
    "            optimizer.step()\n",
    "\n",
    "            # print statistics\n",
    "            running_loss += loss.item()\n",
    "        print('[%d, %5d] loss: %.3f' %(epoch + 1, i + 1, running_loss / 2000))\n",
    "        running_loss = 0.0\n",
    "\n",
    "    print('Finished Training')"
   ]
  },
  {
   "cell_type": "code",
   "execution_count": 36,
   "metadata": {
    "colab": {
     "base_uri": "https://localhost:8080/",
     "height": 398
    },
    "id": "Jb-P5Ige-bc0",
    "outputId": "17ad75d3-69a1-4561-d375-1eac9195703b"
   },
   "outputs": [
    {
     "name": "stdout",
     "output_type": "stream",
     "text": [
      "cpu\n",
      "[1,  1563] loss: 1.289\n",
      "[2,  1563] loss: 1.085\n",
      "[3,  1563] loss: 0.976\n",
      "[4,  1563] loss: 0.884\n",
      "[5,  1563] loss: 0.790\n",
      "[6,  1563] loss: 0.702\n",
      "[7,  1563] loss: 0.614\n",
      "[8,  1563] loss: 0.526\n",
      "[9,  1563] loss: 0.440\n",
      "[10,  1563] loss: 0.369\n",
      "[11,  1563] loss: 0.302\n",
      "[12,  1563] loss: 0.254\n",
      "[13,  1563] loss: 0.214\n",
      "[14,  1563] loss: 0.185\n",
      "[15,  1563] loss: 0.157\n",
      "Finished Training\n"
     ]
    }
   ],
   "source": [
    "train_network(cifar_net, criterion, optimizer, cifar_trainloader)"
   ]
  },
  {
   "cell_type": "code",
   "execution_count": 37,
   "metadata": {
    "id": "Ve8EoUhO-cdP"
   },
   "outputs": [
    {
     "name": "stdout",
     "output_type": "stream",
     "text": [
      "Accuracy of the network on the 10000 test images: 54 %\n"
     ]
    }
   ],
   "source": [
    "calc_net_accuracy(cifar_net, cifar_testloader)"
   ]
  },
  {
   "cell_type": "code",
   "execution_count": 38,
   "metadata": {
    "id": "ZJuZo-cO-do_"
   },
   "outputs": [
    {
     "name": "stdout",
     "output_type": "stream",
     "text": [
      "GroundTruth:      cat    ship    ship   plane    frog    frog     car    frog\n",
      "Predicted:       deer    ship   plane   plane    frog    frog     car    frog\n"
     ]
    },
    {
     "data": {
      "image/png": "[encoded data removed]",
      "text/plain": [
       "<Figure size 640x480 with 1 Axes>"
      ]
     },
     "metadata": {},
     "output_type": "display_data"
    }
   ],
   "source": [
    "dataiter = iter(cifar_testloader)\n",
    "images, labels = next(dataiter)\n",
    "\n",
    "# print images\n",
    "imshow(torchvision.utils.make_grid(images[:8]))\n",
    "print('GroundTruth: ', ' '.join('%7s' % classes[labels[j]] for j in range(8)))\n",
    "\n",
    "outputs = cifar_net(images[:8].to(device))\n",
    "_, predicted = torch.max(outputs, 1)\n",
    "\n",
    "print('Predicted:   ', ' '.join('%7s' % classes[predicted[j]]for j in range(8)))"
   ]
  },
  {
   "cell_type": "markdown",
   "metadata": {
    "id": "uM3VvoMx-hKp"
   },
   "source": [
    "While we can predicting MNIST data with 95%+ accuracy, we are only able to predict less than half of the CIFAR-10 dataset using the same architecture. The reason is that CIFAR-10 data is more complicated, and we need a more powerful network to handle this data."
   ]
  }
 ],
 "metadata": {
  "accelerator": "GPU",
  "colab": {
   "provenance": []
  },
  "kernelspec": {
   "display_name": "Python 3 (ipykernel)",
   "language": "python",
   "name": "python3"
  },
  "language_info": {
   "codemirror_mode": {
    "name": "ipython",
    "version": 3
   },
   "file_extension": ".py",
   "mimetype": "text/x-python",
   "name": "python",
   "nbconvert_exporter": "python",
   "pygments_lexer": "ipython3",
   "version": "3.9.13"
  },
  "widgets": {
   "application/vnd.jupyter.widget-state+json": {
    "00b11aa644c748af9573495bf099c786": {
     "model_module": "@jupyter-widgets/controls",
     "model_module_version": "1.5.0",
     "model_name": "DescriptionStyleModel",
     "state": {
      "_model_module": "@jupyter-widgets/controls",
      "_model_module_version": "1.5.0",
      "_model_name": "DescriptionStyleModel",
      "_view_count": null,
      "_view_module": "@jupyter-widgets/base",
      "_view_module_version": "1.2.0",
      "_view_name": "StyleView",
      "description_width": ""
     }
    },
    "0111535a536b438dab7fc9b620f50e50": {
     "model_module": "@jupyter-widgets/controls",
     "model_module_version": "1.5.0",
     "model_name": "HTMLModel",
     "state": {
      "_dom_classes": [],
      "_model_module": "@jupyter-widgets/controls",
      "_model_module_version": "1.5.0",
      "_model_name": "HTMLModel",
      "_view_count": null,
      "_view_module": "@jupyter-widgets/controls",
      "_view_module_version": "1.5.0",
      "_view_name": "HTMLView",
      "description": "",
      "description_tooltip": null,
      "layout": "IPY_MODEL_6cf2f9532e9046fabd5f1a14990aaabd",
      "placeholder": "​",
      "style": "IPY_MODEL_00b11aa644c748af9573495bf099c786",
      "value": ""
     }
    },
    "06bfbb8dba7348fdb78ae067fe40d3f2": {
     "model_module": "@jupyter-widgets/controls",
     "model_module_version": "1.5.0",
     "model_name": "DescriptionStyleModel",
     "state": {
      "_model_module": "@jupyter-widgets/controls",
      "_model_module_version": "1.5.0",
      "_model_name": "DescriptionStyleModel",
      "_view_count": null,
      "_view_module": "@jupyter-widgets/base",
      "_view_module_version": "1.2.0",
      "_view_name": "StyleView",
      "description_width": ""
     }
    },
    "094dd2afee5a47949ad1e0dbc1e6f06a": {
     "model_module": "@jupyter-widgets/controls",
     "model_module_version": "1.5.0",
     "model_name": "HTMLModel",
     "state": {
      "_dom_classes": [],
      "_model_module": "@jupyter-widgets/controls",
      "_model_module_version": "1.5.0",
      "_model_name": "HTMLModel",
      "_view_count": null,
      "_view_module": "@jupyter-widgets/controls",
      "_view_module_version": "1.5.0",
      "_view_name": "HTMLView",
      "description": "",
      "description_tooltip": null,
      "layout": "IPY_MODEL_6ae38138a03845ed9029110e84505c09",
      "placeholder": "​",
      "style": "IPY_MODEL_77667c6fb97f413eacec376aaa1c8632",
      "value": " 1649664/? [00:00&lt;00:00, 4529359.07it/s]"
     }
    },
    "09c727144e4840febd95834dd756d98c": {
     "model_module": "@jupyter-widgets/controls",
     "model_module_version": "1.5.0",
     "model_name": "FloatProgressModel",
     "state": {
      "_dom_classes": [],
      "_model_module": "@jupyter-widgets/controls",
      "_model_module_version": "1.5.0",
      "_model_name": "FloatProgressModel",
      "_view_count": null,
      "_view_module": "@jupyter-widgets/controls",
      "_view_module_version": "1.5.0",
      "_view_name": "ProgressView",
      "bar_style": "success",
      "description": "",
      "description_tooltip": null,
      "layout": "IPY_MODEL_8c4588dee31942068f08b3c13af6ff5d",
      "max": 4542,
      "min": 0,
      "orientation": "horizontal",
      "style": "IPY_MODEL_63bcef63dff14981aed685aee53bf5de",
      "value": 4542
     }
    },
    "0aed64e42b86451694947a8bc454795a": {
     "model_module": "@jupyter-widgets/controls",
     "model_module_version": "1.5.0",
     "model_name": "DescriptionStyleModel",
     "state": {
      "_model_module": "@jupyter-widgets/controls",
      "_model_module_version": "1.5.0",
      "_model_name": "DescriptionStyleModel",
      "_view_count": null,
      "_view_module": "@jupyter-widgets/base",
      "_view_module_version": "1.2.0",
      "_view_name": "StyleView",
      "description_width": ""
     }
    },
    "0cb1423a5e0749ccb0665c80d1ea7b6b": {
     "model_module": "@jupyter-widgets/base",
     "model_module_version": "1.2.0",
     "model_name": "LayoutModel",
     "state": {
      "_model_module": "@jupyter-widgets/base",
      "_model_module_version": "1.2.0",
      "_model_name": "LayoutModel",
      "_view_count": null,
      "_view_module": "@jupyter-widgets/base",
      "_view_module_version": "1.2.0",
      "_view_name": "LayoutView",
      "align_content": null,
      "align_items": null,
      "align_self": null,
      "border": null,
      "bottom": null,
      "display": null,
      "flex": null,
      "flex_flow": null,
      "grid_area": null,
      "grid_auto_columns": null,
      "grid_auto_flow": null,
      "grid_auto_rows": null,
      "grid_column": null,
      "grid_gap": null,
      "grid_row": null,
      "grid_template_areas": null,
      "grid_template_columns": null,
      "grid_template_rows": null,
      "height": null,
      "justify_content": null,
      "justify_items": null,
      "left": null,
      "margin": null,
      "max_height": null,
      "max_width": null,
      "min_height": null,
      "min_width": null,
      "object_fit": null,
      "object_position": null,
      "order": null,
      "overflow": null,
      "overflow_x": null,
      "overflow_y": null,
      "padding": null,
      "right": null,
      "top": null,
      "visibility": null,
      "width": null
     }
    },
    "139138b946794e1992ea1940bdf8fd9e": {
     "model_module": "@jupyter-widgets/base",
     "model_module_version": "1.2.0",
     "model_name": "LayoutModel",
     "state": {
      "_model_module": "@jupyter-widgets/base",
      "_model_module_version": "1.2.0",
      "_model_name": "LayoutModel",
      "_view_count": null,
      "_view_module": "@jupyter-widgets/base",
      "_view_module_version": "1.2.0",
      "_view_name": "LayoutView",
      "align_content": null,
      "align_items": null,
      "align_self": null,
      "border": null,
      "bottom": null,
      "display": null,
      "flex": null,
      "flex_flow": null,
      "grid_area": null,
      "grid_auto_columns": null,
      "grid_auto_flow": null,
      "grid_auto_rows": null,
      "grid_column": null,
      "grid_gap": null,
      "grid_row": null,
      "grid_template_areas": null,
      "grid_template_columns": null,
      "grid_template_rows": null,
      "height": null,
      "justify_content": null,
      "justify_items": null,
      "left": null,
      "margin": null,
      "max_height": null,
      "max_width": null,
      "min_height": null,
      "min_width": null,
      "object_fit": null,
      "object_position": null,
      "order": null,
      "overflow": null,
      "overflow_x": null,
      "overflow_y": null,
      "padding": null,
      "right": null,
      "top": null,
      "visibility": null,
      "width": null
     }
    },
    "243aac5e94a94d73a202ae41708dc420": {
     "model_module": "@jupyter-widgets/controls",
     "model_module_version": "1.5.0",
     "model_name": "ProgressStyleModel",
     "state": {
      "_model_module": "@jupyter-widgets/controls",
      "_model_module_version": "1.5.0",
      "_model_name": "ProgressStyleModel",
      "_view_count": null,
      "_view_module": "@jupyter-widgets/base",
      "_view_module_version": "1.2.0",
      "_view_name": "StyleView",
      "bar_color": null,
      "description_width": ""
     }
    },
    "2a9c064601eb4cae8ef88b757fee422c": {
     "model_module": "@jupyter-widgets/controls",
     "model_module_version": "1.5.0",
     "model_name": "HTMLModel",
     "state": {
      "_dom_classes": [],
      "_model_module": "@jupyter-widgets/controls",
      "_model_module_version": "1.5.0",
      "_model_name": "HTMLModel",
      "_view_count": null,
      "_view_module": "@jupyter-widgets/controls",
      "_view_module_version": "1.5.0",
      "_view_name": "HTMLView",
      "description": "",
      "description_tooltip": null,
      "layout": "IPY_MODEL_2aebad16af52456091ef84a8404d597f",
      "placeholder": "​",
      "style": "IPY_MODEL_c8edf9840b0148ab8ba95d5c94840adf",
      "value": ""
     }
    },
    "2aebad16af52456091ef84a8404d597f": {
     "model_module": "@jupyter-widgets/base",
     "model_module_version": "1.2.0",
     "model_name": "LayoutModel",
     "state": {
      "_model_module": "@jupyter-widgets/base",
      "_model_module_version": "1.2.0",
      "_model_name": "LayoutModel",
      "_view_count": null,
      "_view_module": "@jupyter-widgets/base",
      "_view_module_version": "1.2.0",
      "_view_name": "LayoutView",
      "align_content": null,
      "align_items": null,
      "align_self": null,
      "border": null,
      "bottom": null,
      "display": null,
      "flex": null,
      "flex_flow": null,
      "grid_area": null,
      "grid_auto_columns": null,
      "grid_auto_flow": null,
      "grid_auto_rows": null,
      "grid_column": null,
      "grid_gap": null,
      "grid_row": null,
      "grid_template_areas": null,
      "grid_template_columns": null,
      "grid_template_rows": null,
      "height": null,
      "justify_content": null,
      "justify_items": null,
      "left": null,
      "margin": null,
      "max_height": null,
      "max_width": null,
      "min_height": null,
      "min_width": null,
      "object_fit": null,
      "object_position": null,
      "order": null,
      "overflow": null,
      "overflow_x": null,
      "overflow_y": null,
      "padding": null,
      "right": null,
      "top": null,
      "visibility": null,
      "width": null
     }
    },
    "2bdee9cb5cfe498596c112b8e7e218f5": {
     "model_module": "@jupyter-widgets/controls",
     "model_module_version": "1.5.0",
     "model_name": "HBoxModel",
     "state": {
      "_dom_classes": [],
      "_model_module": "@jupyter-widgets/controls",
      "_model_module_version": "1.5.0",
      "_model_name": "HBoxModel",
      "_view_count": null,
      "_view_module": "@jupyter-widgets/controls",
      "_view_module_version": "1.5.0",
      "_view_name": "HBoxView",
      "box_style": "",
      "children": [
       "IPY_MODEL_66774e130d744545ad5efd3355faad9e",
       "IPY_MODEL_790a40374b6749ee86edebd8549298e9",
       "IPY_MODEL_094dd2afee5a47949ad1e0dbc1e6f06a"
      ],
      "layout": "IPY_MODEL_43e7dd41116e49928c6f8e9a69d71790"
     }
    },
    "35bf409a35ff46a9be6af7ae740dfaa7": {
     "model_module": "@jupyter-widgets/controls",
     "model_module_version": "1.5.0",
     "model_name": "HBoxModel",
     "state": {
      "_dom_classes": [],
      "_model_module": "@jupyter-widgets/controls",
      "_model_module_version": "1.5.0",
      "_model_name": "HBoxModel",
      "_view_count": null,
      "_view_module": "@jupyter-widgets/controls",
      "_view_module_version": "1.5.0",
      "_view_name": "HBoxView",
      "box_style": "",
      "children": [
       "IPY_MODEL_85e60e735d814fa7944837e1f5fc4aec",
       "IPY_MODEL_09c727144e4840febd95834dd756d98c",
       "IPY_MODEL_4edab961f24f4bc3842296e2c218b900"
      ],
      "layout": "IPY_MODEL_ee3cc2ebe25b4ef984ec6aa935639706"
     }
    },
    "4009eaae3d484fea9620383264126fca": {
     "model_module": "@jupyter-widgets/base",
     "model_module_version": "1.2.0",
     "model_name": "LayoutModel",
     "state": {
      "_model_module": "@jupyter-widgets/base",
      "_model_module_version": "1.2.0",
      "_model_name": "LayoutModel",
      "_view_count": null,
      "_view_module": "@jupyter-widgets/base",
      "_view_module_version": "1.2.0",
      "_view_name": "LayoutView",
      "align_content": null,
      "align_items": null,
      "align_self": null,
      "border": null,
      "bottom": null,
      "display": null,
      "flex": null,
      "flex_flow": null,
      "grid_area": null,
      "grid_auto_columns": null,
      "grid_auto_flow": null,
      "grid_auto_rows": null,
      "grid_column": null,
      "grid_gap": null,
      "grid_row": null,
      "grid_template_areas": null,
      "grid_template_columns": null,
      "grid_template_rows": null,
      "height": null,
      "justify_content": null,
      "justify_items": null,
      "left": null,
      "margin": null,
      "max_height": null,
      "max_width": null,
      "min_height": null,
      "min_width": null,
      "object_fit": null,
      "object_position": null,
      "order": null,
      "overflow": null,
      "overflow_x": null,
      "overflow_y": null,
      "padding": null,
      "right": null,
      "top": null,
      "visibility": null,
      "width": null
     }
    },
    "406b11f044b8473b8b5df45725a2ee73": {
     "model_module": "@jupyter-widgets/controls",
     "model_module_version": "1.5.0",
     "model_name": "DescriptionStyleModel",
     "state": {
      "_model_module": "@jupyter-widgets/controls",
      "_model_module_version": "1.5.0",
      "_model_name": "DescriptionStyleModel",
      "_view_count": null,
      "_view_module": "@jupyter-widgets/base",
      "_view_module_version": "1.2.0",
      "_view_name": "StyleView",
      "description_width": ""
     }
    },
    "437f0f263457448e8d2ea3aecc675aa0": {
     "model_module": "@jupyter-widgets/controls",
     "model_module_version": "1.5.0",
     "model_name": "HTMLModel",
     "state": {
      "_dom_classes": [],
      "_model_module": "@jupyter-widgets/controls",
      "_model_module_version": "1.5.0",
      "_model_name": "HTMLModel",
      "_view_count": null,
      "_view_module": "@jupyter-widgets/controls",
      "_view_module_version": "1.5.0",
      "_view_name": "HTMLView",
      "description": "",
      "description_tooltip": null,
      "layout": "IPY_MODEL_89eba9ed70604b599b402ea5328593db",
      "placeholder": "​",
      "style": "IPY_MODEL_b631c2d11a5e40839c289f5845cefcc1",
      "value": ""
     }
    },
    "43e7dd41116e49928c6f8e9a69d71790": {
     "model_module": "@jupyter-widgets/base",
     "model_module_version": "1.2.0",
     "model_name": "LayoutModel",
     "state": {
      "_model_module": "@jupyter-widgets/base",
      "_model_module_version": "1.2.0",
      "_model_name": "LayoutModel",
      "_view_count": null,
      "_view_module": "@jupyter-widgets/base",
      "_view_module_version": "1.2.0",
      "_view_name": "LayoutView",
      "align_content": null,
      "align_items": null,
      "align_self": null,
      "border": null,
      "bottom": null,
      "display": null,
      "flex": null,
      "flex_flow": null,
      "grid_area": null,
      "grid_auto_columns": null,
      "grid_auto_flow": null,
      "grid_auto_rows": null,
      "grid_column": null,
      "grid_gap": null,
      "grid_row": null,
      "grid_template_areas": null,
      "grid_template_columns": null,
      "grid_template_rows": null,
      "height": null,
      "justify_content": null,
      "justify_items": null,
      "left": null,
      "margin": null,
      "max_height": null,
      "max_width": null,
      "min_height": null,
      "min_width": null,
      "object_fit": null,
      "object_position": null,
      "order": null,
      "overflow": null,
      "overflow_x": null,
      "overflow_y": null,
      "padding": null,
      "right": null,
      "top": null,
      "visibility": null,
      "width": null
     }
    },
    "4edab961f24f4bc3842296e2c218b900": {
     "model_module": "@jupyter-widgets/controls",
     "model_module_version": "1.5.0",
     "model_name": "HTMLModel",
     "state": {
      "_dom_classes": [],
      "_model_module": "@jupyter-widgets/controls",
      "_model_module_version": "1.5.0",
      "_model_name": "HTMLModel",
      "_view_count": null,
      "_view_module": "@jupyter-widgets/controls",
      "_view_module_version": "1.5.0",
      "_view_name": "HTMLView",
      "description": "",
      "description_tooltip": null,
      "layout": "IPY_MODEL_9675a3d23d484c8ea3c7ca35dc62baa6",
      "placeholder": "​",
      "style": "IPY_MODEL_406b11f044b8473b8b5df45725a2ee73",
      "value": " 5120/? [00:00&lt;00:00, 162767.07it/s]"
     }
    },
    "56fae14fa44749a09a84bc17f8b692ae": {
     "model_module": "@jupyter-widgets/base",
     "model_module_version": "1.2.0",
     "model_name": "LayoutModel",
     "state": {
      "_model_module": "@jupyter-widgets/base",
      "_model_module_version": "1.2.0",
      "_model_name": "LayoutModel",
      "_view_count": null,
      "_view_module": "@jupyter-widgets/base",
      "_view_module_version": "1.2.0",
      "_view_name": "LayoutView",
      "align_content": null,
      "align_items": null,
      "align_self": null,
      "border": null,
      "bottom": null,
      "display": null,
      "flex": null,
      "flex_flow": null,
      "grid_area": null,
      "grid_auto_columns": null,
      "grid_auto_flow": null,
      "grid_auto_rows": null,
      "grid_column": null,
      "grid_gap": null,
      "grid_row": null,
      "grid_template_areas": null,
      "grid_template_columns": null,
      "grid_template_rows": null,
      "height": null,
      "justify_content": null,
      "justify_items": null,
      "left": null,
      "margin": null,
      "max_height": null,
      "max_width": null,
      "min_height": null,
      "min_width": null,
      "object_fit": null,
      "object_position": null,
      "order": null,
      "overflow": null,
      "overflow_x": null,
      "overflow_y": null,
      "padding": null,
      "right": null,
      "top": null,
      "visibility": null,
      "width": null
     }
    },
    "59afbcfee179452784de5041a5d94988": {
     "model_module": "@jupyter-widgets/base",
     "model_module_version": "1.2.0",
     "model_name": "LayoutModel",
     "state": {
      "_model_module": "@jupyter-widgets/base",
      "_model_module_version": "1.2.0",
      "_model_name": "LayoutModel",
      "_view_count": null,
      "_view_module": "@jupyter-widgets/base",
      "_view_module_version": "1.2.0",
      "_view_name": "LayoutView",
      "align_content": null,
      "align_items": null,
      "align_self": null,
      "border": null,
      "bottom": null,
      "display": null,
      "flex": null,
      "flex_flow": null,
      "grid_area": null,
      "grid_auto_columns": null,
      "grid_auto_flow": null,
      "grid_auto_rows": null,
      "grid_column": null,
      "grid_gap": null,
      "grid_row": null,
      "grid_template_areas": null,
      "grid_template_columns": null,
      "grid_template_rows": null,
      "height": null,
      "justify_content": null,
      "justify_items": null,
      "left": null,
      "margin": null,
      "max_height": null,
      "max_width": null,
      "min_height": null,
      "min_width": null,
      "object_fit": null,
      "object_position": null,
      "order": null,
      "overflow": null,
      "overflow_x": null,
      "overflow_y": null,
      "padding": null,
      "right": null,
      "top": null,
      "visibility": null,
      "width": null
     }
    },
    "5c0786634da940d490bc24115bceb823": {
     "model_module": "@jupyter-widgets/controls",
     "model_module_version": "1.5.0",
     "model_name": "FloatProgressModel",
     "state": {
      "_dom_classes": [],
      "_model_module": "@jupyter-widgets/controls",
      "_model_module_version": "1.5.0",
      "_model_name": "FloatProgressModel",
      "_view_count": null,
      "_view_module": "@jupyter-widgets/controls",
      "_view_module_version": "1.5.0",
      "_view_name": "ProgressView",
      "bar_style": "success",
      "description": "",
      "description_tooltip": null,
      "layout": "IPY_MODEL_0cb1423a5e0749ccb0665c80d1ea7b6b",
      "max": 9912422,
      "min": 0,
      "orientation": "horizontal",
      "style": "IPY_MODEL_67a93600a69c4598af2a3926b673cd86",
      "value": 9912422
     }
    },
    "60f59105e2174f3ca9134513f13b9612": {
     "model_module": "@jupyter-widgets/base",
     "model_module_version": "1.2.0",
     "model_name": "LayoutModel",
     "state": {
      "_model_module": "@jupyter-widgets/base",
      "_model_module_version": "1.2.0",
      "_model_name": "LayoutModel",
      "_view_count": null,
      "_view_module": "@jupyter-widgets/base",
      "_view_module_version": "1.2.0",
      "_view_name": "LayoutView",
      "align_content": null,
      "align_items": null,
      "align_self": null,
      "border": null,
      "bottom": null,
      "display": null,
      "flex": null,
      "flex_flow": null,
      "grid_area": null,
      "grid_auto_columns": null,
      "grid_auto_flow": null,
      "grid_auto_rows": null,
      "grid_column": null,
      "grid_gap": null,
      "grid_row": null,
      "grid_template_areas": null,
      "grid_template_columns": null,
      "grid_template_rows": null,
      "height": null,
      "justify_content": null,
      "justify_items": null,
      "left": null,
      "margin": null,
      "max_height": null,
      "max_width": null,
      "min_height": null,
      "min_width": null,
      "object_fit": null,
      "object_position": null,
      "order": null,
      "overflow": null,
      "overflow_x": null,
      "overflow_y": null,
      "padding": null,
      "right": null,
      "top": null,
      "visibility": null,
      "width": null
     }
    },
    "63bcef63dff14981aed685aee53bf5de": {
     "model_module": "@jupyter-widgets/controls",
     "model_module_version": "1.5.0",
     "model_name": "ProgressStyleModel",
     "state": {
      "_model_module": "@jupyter-widgets/controls",
      "_model_module_version": "1.5.0",
      "_model_name": "ProgressStyleModel",
      "_view_count": null,
      "_view_module": "@jupyter-widgets/base",
      "_view_module_version": "1.2.0",
      "_view_name": "StyleView",
      "bar_color": null,
      "description_width": ""
     }
    },
    "66774e130d744545ad5efd3355faad9e": {
     "model_module": "@jupyter-widgets/controls",
     "model_module_version": "1.5.0",
     "model_name": "HTMLModel",
     "state": {
      "_dom_classes": [],
      "_model_module": "@jupyter-widgets/controls",
      "_model_module_version": "1.5.0",
      "_model_name": "HTMLModel",
      "_view_count": null,
      "_view_module": "@jupyter-widgets/controls",
      "_view_module_version": "1.5.0",
      "_view_name": "HTMLView",
      "description": "",
      "description_tooltip": null,
      "layout": "IPY_MODEL_db048f7ee9a14c8a82b56afacdf99127",
      "placeholder": "​",
      "style": "IPY_MODEL_0aed64e42b86451694947a8bc454795a",
      "value": ""
     }
    },
    "67a93600a69c4598af2a3926b673cd86": {
     "model_module": "@jupyter-widgets/controls",
     "model_module_version": "1.5.0",
     "model_name": "ProgressStyleModel",
     "state": {
      "_model_module": "@jupyter-widgets/controls",
      "_model_module_version": "1.5.0",
      "_model_name": "ProgressStyleModel",
      "_view_count": null,
      "_view_module": "@jupyter-widgets/base",
      "_view_module_version": "1.2.0",
      "_view_name": "StyleView",
      "bar_color": null,
      "description_width": ""
     }
    },
    "6ae38138a03845ed9029110e84505c09": {
     "model_module": "@jupyter-widgets/base",
     "model_module_version": "1.2.0",
     "model_name": "LayoutModel",
     "state": {
      "_model_module": "@jupyter-widgets/base",
      "_model_module_version": "1.2.0",
      "_model_name": "LayoutModel",
      "_view_count": null,
      "_view_module": "@jupyter-widgets/base",
      "_view_module_version": "1.2.0",
      "_view_name": "LayoutView",
      "align_content": null,
      "align_items": null,
      "align_self": null,
      "border": null,
      "bottom": null,
      "display": null,
      "flex": null,
      "flex_flow": null,
      "grid_area": null,
      "grid_auto_columns": null,
      "grid_auto_flow": null,
      "grid_auto_rows": null,
      "grid_column": null,
      "grid_gap": null,
      "grid_row": null,
      "grid_template_areas": null,
      "grid_template_columns": null,
      "grid_template_rows": null,
      "height": null,
      "justify_content": null,
      "justify_items": null,
      "left": null,
      "margin": null,
      "max_height": null,
      "max_width": null,
      "min_height": null,
      "min_width": null,
      "object_fit": null,
      "object_position": null,
      "order": null,
      "overflow": null,
      "overflow_x": null,
      "overflow_y": null,
      "padding": null,
      "right": null,
      "top": null,
      "visibility": null,
      "width": null
     }
    },
    "6cf2f9532e9046fabd5f1a14990aaabd": {
     "model_module": "@jupyter-widgets/base",
     "model_module_version": "1.2.0",
     "model_name": "LayoutModel",
     "state": {
      "_model_module": "@jupyter-widgets/base",
      "_model_module_version": "1.2.0",
      "_model_name": "LayoutModel",
      "_view_count": null,
      "_view_module": "@jupyter-widgets/base",
      "_view_module_version": "1.2.0",
      "_view_name": "LayoutView",
      "align_content": null,
      "align_items": null,
      "align_self": null,
      "border": null,
      "bottom": null,
      "display": null,
      "flex": null,
      "flex_flow": null,
      "grid_area": null,
      "grid_auto_columns": null,
      "grid_auto_flow": null,
      "grid_auto_rows": null,
      "grid_column": null,
      "grid_gap": null,
      "grid_row": null,
      "grid_template_areas": null,
      "grid_template_columns": null,
      "grid_template_rows": null,
      "height": null,
      "justify_content": null,
      "justify_items": null,
      "left": null,
      "margin": null,
      "max_height": null,
      "max_width": null,
      "min_height": null,
      "min_width": null,
      "object_fit": null,
      "object_position": null,
      "order": null,
      "overflow": null,
      "overflow_x": null,
      "overflow_y": null,
      "padding": null,
      "right": null,
      "top": null,
      "visibility": null,
      "width": null
     }
    },
    "703ad8cbe80f4174bb2b5e7da394ddfd": {
     "model_module": "@jupyter-widgets/controls",
     "model_module_version": "1.5.0",
     "model_name": "HBoxModel",
     "state": {
      "_dom_classes": [],
      "_model_module": "@jupyter-widgets/controls",
      "_model_module_version": "1.5.0",
      "_model_name": "HBoxModel",
      "_view_count": null,
      "_view_module": "@jupyter-widgets/controls",
      "_view_module_version": "1.5.0",
      "_view_name": "HBoxView",
      "box_style": "",
      "children": [
       "IPY_MODEL_0111535a536b438dab7fc9b620f50e50",
       "IPY_MODEL_5c0786634da940d490bc24115bceb823",
       "IPY_MODEL_7e0e1d2bffd24b09b8e0682d9161bdd6"
      ],
      "layout": "IPY_MODEL_9d57f35200d1480d8fef011eaf0757ac"
     }
    },
    "77667c6fb97f413eacec376aaa1c8632": {
     "model_module": "@jupyter-widgets/controls",
     "model_module_version": "1.5.0",
     "model_name": "DescriptionStyleModel",
     "state": {
      "_model_module": "@jupyter-widgets/controls",
      "_model_module_version": "1.5.0",
      "_model_name": "DescriptionStyleModel",
      "_view_count": null,
      "_view_module": "@jupyter-widgets/base",
      "_view_module_version": "1.2.0",
      "_view_name": "StyleView",
      "description_width": ""
     }
    },
    "790a40374b6749ee86edebd8549298e9": {
     "model_module": "@jupyter-widgets/controls",
     "model_module_version": "1.5.0",
     "model_name": "FloatProgressModel",
     "state": {
      "_dom_classes": [],
      "_model_module": "@jupyter-widgets/controls",
      "_model_module_version": "1.5.0",
      "_model_name": "FloatProgressModel",
      "_view_count": null,
      "_view_module": "@jupyter-widgets/controls",
      "_view_module_version": "1.5.0",
      "_view_name": "ProgressView",
      "bar_style": "success",
      "description": "",
      "description_tooltip": null,
      "layout": "IPY_MODEL_60f59105e2174f3ca9134513f13b9612",
      "max": 1648877,
      "min": 0,
      "orientation": "horizontal",
      "style": "IPY_MODEL_9ffd3842708f448bb68503c41f46f178",
      "value": 1648877
     }
    },
    "7e0e1d2bffd24b09b8e0682d9161bdd6": {
     "model_module": "@jupyter-widgets/controls",
     "model_module_version": "1.5.0",
     "model_name": "HTMLModel",
     "state": {
      "_dom_classes": [],
      "_model_module": "@jupyter-widgets/controls",
      "_model_module_version": "1.5.0",
      "_model_name": "HTMLModel",
      "_view_count": null,
      "_view_module": "@jupyter-widgets/controls",
      "_view_module_version": "1.5.0",
      "_view_name": "HTMLView",
      "description": "",
      "description_tooltip": null,
      "layout": "IPY_MODEL_59afbcfee179452784de5041a5d94988",
      "placeholder": "​",
      "style": "IPY_MODEL_f3f8392915474865b66d8902208911ab",
      "value": " 9913344/? [00:00&lt;00:00, 7448897.14it/s]"
     }
    },
    "85e60e735d814fa7944837e1f5fc4aec": {
     "model_module": "@jupyter-widgets/controls",
     "model_module_version": "1.5.0",
     "model_name": "HTMLModel",
     "state": {
      "_dom_classes": [],
      "_model_module": "@jupyter-widgets/controls",
      "_model_module_version": "1.5.0",
      "_model_name": "HTMLModel",
      "_view_count": null,
      "_view_module": "@jupyter-widgets/controls",
      "_view_module_version": "1.5.0",
      "_view_name": "HTMLView",
      "description": "",
      "description_tooltip": null,
      "layout": "IPY_MODEL_e0fddbf38f7043f9a288030834b76eb8",
      "placeholder": "​",
      "style": "IPY_MODEL_cf0f3c2207724049bc2ce855820c0f8e",
      "value": ""
     }
    },
    "89eba9ed70604b599b402ea5328593db": {
     "model_module": "@jupyter-widgets/base",
     "model_module_version": "1.2.0",
     "model_name": "LayoutModel",
     "state": {
      "_model_module": "@jupyter-widgets/base",
      "_model_module_version": "1.2.0",
      "_model_name": "LayoutModel",
      "_view_count": null,
      "_view_module": "@jupyter-widgets/base",
      "_view_module_version": "1.2.0",
      "_view_name": "LayoutView",
      "align_content": null,
      "align_items": null,
      "align_self": null,
      "border": null,
      "bottom": null,
      "display": null,
      "flex": null,
      "flex_flow": null,
      "grid_area": null,
      "grid_auto_columns": null,
      "grid_auto_flow": null,
      "grid_auto_rows": null,
      "grid_column": null,
      "grid_gap": null,
      "grid_row": null,
      "grid_template_areas": null,
      "grid_template_columns": null,
      "grid_template_rows": null,
      "height": null,
      "justify_content": null,
      "justify_items": null,
      "left": null,
      "margin": null,
      "max_height": null,
      "max_width": null,
      "min_height": null,
      "min_width": null,
      "object_fit": null,
      "object_position": null,
      "order": null,
      "overflow": null,
      "overflow_x": null,
      "overflow_y": null,
      "padding": null,
      "right": null,
      "top": null,
      "visibility": null,
      "width": null
     }
    },
    "8c4588dee31942068f08b3c13af6ff5d": {
     "model_module": "@jupyter-widgets/base",
     "model_module_version": "1.2.0",
     "model_name": "LayoutModel",
     "state": {
      "_model_module": "@jupyter-widgets/base",
      "_model_module_version": "1.2.0",
      "_model_name": "LayoutModel",
      "_view_count": null,
      "_view_module": "@jupyter-widgets/base",
      "_view_module_version": "1.2.0",
      "_view_name": "LayoutView",
      "align_content": null,
      "align_items": null,
      "align_self": null,
      "border": null,
      "bottom": null,
      "display": null,
      "flex": null,
      "flex_flow": null,
      "grid_area": null,
      "grid_auto_columns": null,
      "grid_auto_flow": null,
      "grid_auto_rows": null,
      "grid_column": null,
      "grid_gap": null,
      "grid_row": null,
      "grid_template_areas": null,
      "grid_template_columns": null,
      "grid_template_rows": null,
      "height": null,
      "justify_content": null,
      "justify_items": null,
      "left": null,
      "margin": null,
      "max_height": null,
      "max_width": null,
      "min_height": null,
      "min_width": null,
      "object_fit": null,
      "object_position": null,
      "order": null,
      "overflow": null,
      "overflow_x": null,
      "overflow_y": null,
      "padding": null,
      "right": null,
      "top": null,
      "visibility": null,
      "width": null
     }
    },
    "8d88a64a0b7c4950beda8056e21559cf": {
     "model_module": "@jupyter-widgets/controls",
     "model_module_version": "1.5.0",
     "model_name": "HBoxModel",
     "state": {
      "_dom_classes": [],
      "_model_module": "@jupyter-widgets/controls",
      "_model_module_version": "1.5.0",
      "_model_name": "HBoxModel",
      "_view_count": null,
      "_view_module": "@jupyter-widgets/controls",
      "_view_module_version": "1.5.0",
      "_view_name": "HBoxView",
      "box_style": "",
      "children": [
       "IPY_MODEL_2a9c064601eb4cae8ef88b757fee422c",
       "IPY_MODEL_90fa1b9cdb5a4a489e9b468fcd510a02",
       "IPY_MODEL_a4621304147b4372938074e6bb307e14"
      ],
      "layout": "IPY_MODEL_56fae14fa44749a09a84bc17f8b692ae"
     }
    },
    "90fa1b9cdb5a4a489e9b468fcd510a02": {
     "model_module": "@jupyter-widgets/controls",
     "model_module_version": "1.5.0",
     "model_name": "FloatProgressModel",
     "state": {
      "_dom_classes": [],
      "_model_module": "@jupyter-widgets/controls",
      "_model_module_version": "1.5.0",
      "_model_name": "FloatProgressModel",
      "_view_count": null,
      "_view_module": "@jupyter-widgets/controls",
      "_view_module_version": "1.5.0",
      "_view_name": "ProgressView",
      "bar_style": "success",
      "description": "",
      "description_tooltip": null,
      "layout": "IPY_MODEL_d41f1cd3317f438598923e3f2dd3e497",
      "max": 170498071,
      "min": 0,
      "orientation": "horizontal",
      "style": "IPY_MODEL_243aac5e94a94d73a202ae41708dc420",
      "value": 170498071
     }
    },
    "9675a3d23d484c8ea3c7ca35dc62baa6": {
     "model_module": "@jupyter-widgets/base",
     "model_module_version": "1.2.0",
     "model_name": "LayoutModel",
     "state": {
      "_model_module": "@jupyter-widgets/base",
      "_model_module_version": "1.2.0",
      "_model_name": "LayoutModel",
      "_view_count": null,
      "_view_module": "@jupyter-widgets/base",
      "_view_module_version": "1.2.0",
      "_view_name": "LayoutView",
      "align_content": null,
      "align_items": null,
      "align_self": null,
      "border": null,
      "bottom": null,
      "display": null,
      "flex": null,
      "flex_flow": null,
      "grid_area": null,
      "grid_auto_columns": null,
      "grid_auto_flow": null,
      "grid_auto_rows": null,
      "grid_column": null,
      "grid_gap": null,
      "grid_row": null,
      "grid_template_areas": null,
      "grid_template_columns": null,
      "grid_template_rows": null,
      "height": null,
      "justify_content": null,
      "justify_items": null,
      "left": null,
      "margin": null,
      "max_height": null,
      "max_width": null,
      "min_height": null,
      "min_width": null,
      "object_fit": null,
      "object_position": null,
      "order": null,
      "overflow": null,
      "overflow_x": null,
      "overflow_y": null,
      "padding": null,
      "right": null,
      "top": null,
      "visibility": null,
      "width": null
     }
    },
    "9b9067e9fa5d450c8cbe5860ad35af95": {
     "model_module": "@jupyter-widgets/controls",
     "model_module_version": "1.5.0",
     "model_name": "ProgressStyleModel",
     "state": {
      "_model_module": "@jupyter-widgets/controls",
      "_model_module_version": "1.5.0",
      "_model_name": "ProgressStyleModel",
      "_view_count": null,
      "_view_module": "@jupyter-widgets/base",
      "_view_module_version": "1.2.0",
      "_view_name": "StyleView",
      "bar_color": null,
      "description_width": ""
     }
    },
    "9d57f35200d1480d8fef011eaf0757ac": {
     "model_module": "@jupyter-widgets/base",
     "model_module_version": "1.2.0",
     "model_name": "LayoutModel",
     "state": {
      "_model_module": "@jupyter-widgets/base",
      "_model_module_version": "1.2.0",
      "_model_name": "LayoutModel",
      "_view_count": null,
      "_view_module": "@jupyter-widgets/base",
      "_view_module_version": "1.2.0",
      "_view_name": "LayoutView",
      "align_content": null,
      "align_items": null,
      "align_self": null,
      "border": null,
      "bottom": null,
      "display": null,
      "flex": null,
      "flex_flow": null,
      "grid_area": null,
      "grid_auto_columns": null,
      "grid_auto_flow": null,
      "grid_auto_rows": null,
      "grid_column": null,
      "grid_gap": null,
      "grid_row": null,
      "grid_template_areas": null,
      "grid_template_columns": null,
      "grid_template_rows": null,
      "height": null,
      "justify_content": null,
      "justify_items": null,
      "left": null,
      "margin": null,
      "max_height": null,
      "max_width": null,
      "min_height": null,
      "min_width": null,
      "object_fit": null,
      "object_position": null,
      "order": null,
      "overflow": null,
      "overflow_x": null,
      "overflow_y": null,
      "padding": null,
      "right": null,
      "top": null,
      "visibility": null,
      "width": null
     }
    },
    "9ffd3842708f448bb68503c41f46f178": {
     "model_module": "@jupyter-widgets/controls",
     "model_module_version": "1.5.0",
     "model_name": "ProgressStyleModel",
     "state": {
      "_model_module": "@jupyter-widgets/controls",
      "_model_module_version": "1.5.0",
      "_model_name": "ProgressStyleModel",
      "_view_count": null,
      "_view_module": "@jupyter-widgets/base",
      "_view_module_version": "1.2.0",
      "_view_name": "StyleView",
      "bar_color": null,
      "description_width": ""
     }
    },
    "a4621304147b4372938074e6bb307e14": {
     "model_module": "@jupyter-widgets/controls",
     "model_module_version": "1.5.0",
     "model_name": "HTMLModel",
     "state": {
      "_dom_classes": [],
      "_model_module": "@jupyter-widgets/controls",
      "_model_module_version": "1.5.0",
      "_model_name": "HTMLModel",
      "_view_count": null,
      "_view_module": "@jupyter-widgets/controls",
      "_view_module_version": "1.5.0",
      "_view_name": "HTMLView",
      "description": "",
      "description_tooltip": null,
      "layout": "IPY_MODEL_139138b946794e1992ea1940bdf8fd9e",
      "placeholder": "​",
      "style": "IPY_MODEL_c61836b9cfb84b68961b1cf33fb11a21",
      "value": " 170499072/? [00:03&lt;00:00, 53588862.66it/s]"
     }
    },
    "a9e619c8e328445aa1d131cc206cea29": {
     "model_module": "@jupyter-widgets/controls",
     "model_module_version": "1.5.0",
     "model_name": "HBoxModel",
     "state": {
      "_dom_classes": [],
      "_model_module": "@jupyter-widgets/controls",
      "_model_module_version": "1.5.0",
      "_model_name": "HBoxModel",
      "_view_count": null,
      "_view_module": "@jupyter-widgets/controls",
      "_view_module_version": "1.5.0",
      "_view_name": "HBoxView",
      "box_style": "",
      "children": [
       "IPY_MODEL_437f0f263457448e8d2ea3aecc675aa0",
       "IPY_MODEL_ce80d6c4539746128dd8f847fea32f39",
       "IPY_MODEL_dd35443dbcd44ee587da1243b908e207"
      ],
      "layout": "IPY_MODEL_4009eaae3d484fea9620383264126fca"
     }
    },
    "b631c2d11a5e40839c289f5845cefcc1": {
     "model_module": "@jupyter-widgets/controls",
     "model_module_version": "1.5.0",
     "model_name": "DescriptionStyleModel",
     "state": {
      "_model_module": "@jupyter-widgets/controls",
      "_model_module_version": "1.5.0",
      "_model_name": "DescriptionStyleModel",
      "_view_count": null,
      "_view_module": "@jupyter-widgets/base",
      "_view_module_version": "1.2.0",
      "_view_name": "StyleView",
      "description_width": ""
     }
    },
    "c61836b9cfb84b68961b1cf33fb11a21": {
     "model_module": "@jupyter-widgets/controls",
     "model_module_version": "1.5.0",
     "model_name": "DescriptionStyleModel",
     "state": {
      "_model_module": "@jupyter-widgets/controls",
      "_model_module_version": "1.5.0",
      "_model_name": "DescriptionStyleModel",
      "_view_count": null,
      "_view_module": "@jupyter-widgets/base",
      "_view_module_version": "1.2.0",
      "_view_name": "StyleView",
      "description_width": ""
     }
    },
    "c8edf9840b0148ab8ba95d5c94840adf": {
     "model_module": "@jupyter-widgets/controls",
     "model_module_version": "1.5.0",
     "model_name": "DescriptionStyleModel",
     "state": {
      "_model_module": "@jupyter-widgets/controls",
      "_model_module_version": "1.5.0",
      "_model_name": "DescriptionStyleModel",
      "_view_count": null,
      "_view_module": "@jupyter-widgets/base",
      "_view_module_version": "1.2.0",
      "_view_name": "StyleView",
      "description_width": ""
     }
    },
    "ce80d6c4539746128dd8f847fea32f39": {
     "model_module": "@jupyter-widgets/controls",
     "model_module_version": "1.5.0",
     "model_name": "FloatProgressModel",
     "state": {
      "_dom_classes": [],
      "_model_module": "@jupyter-widgets/controls",
      "_model_module_version": "1.5.0",
      "_model_name": "FloatProgressModel",
      "_view_count": null,
      "_view_module": "@jupyter-widgets/controls",
      "_view_module_version": "1.5.0",
      "_view_name": "ProgressView",
      "bar_style": "success",
      "description": "",
      "description_tooltip": null,
      "layout": "IPY_MODEL_fa6387101b4c46cd8b7098a06d4e4d86",
      "max": 28881,
      "min": 0,
      "orientation": "horizontal",
      "style": "IPY_MODEL_9b9067e9fa5d450c8cbe5860ad35af95",
      "value": 28881
     }
    },
    "cf0f3c2207724049bc2ce855820c0f8e": {
     "model_module": "@jupyter-widgets/controls",
     "model_module_version": "1.5.0",
     "model_name": "DescriptionStyleModel",
     "state": {
      "_model_module": "@jupyter-widgets/controls",
      "_model_module_version": "1.5.0",
      "_model_name": "DescriptionStyleModel",
      "_view_count": null,
      "_view_module": "@jupyter-widgets/base",
      "_view_module_version": "1.2.0",
      "_view_name": "StyleView",
      "description_width": ""
     }
    },
    "d41f1cd3317f438598923e3f2dd3e497": {
     "model_module": "@jupyter-widgets/base",
     "model_module_version": "1.2.0",
     "model_name": "LayoutModel",
     "state": {
      "_model_module": "@jupyter-widgets/base",
      "_model_module_version": "1.2.0",
      "_model_name": "LayoutModel",
      "_view_count": null,
      "_view_module": "@jupyter-widgets/base",
      "_view_module_version": "1.2.0",
      "_view_name": "LayoutView",
      "align_content": null,
      "align_items": null,
      "align_self": null,
      "border": null,
      "bottom": null,
      "display": null,
      "flex": null,
      "flex_flow": null,
      "grid_area": null,
      "grid_auto_columns": null,
      "grid_auto_flow": null,
      "grid_auto_rows": null,
      "grid_column": null,
      "grid_gap": null,
      "grid_row": null,
      "grid_template_areas": null,
      "grid_template_columns": null,
      "grid_template_rows": null,
      "height": null,
      "justify_content": null,
      "justify_items": null,
      "left": null,
      "margin": null,
      "max_height": null,
      "max_width": null,
      "min_height": null,
      "min_width": null,
      "object_fit": null,
      "object_position": null,
      "order": null,
      "overflow": null,
      "overflow_x": null,
      "overflow_y": null,
      "padding": null,
      "right": null,
      "top": null,
      "visibility": null,
      "width": null
     }
    },
    "db048f7ee9a14c8a82b56afacdf99127": {
     "model_module": "@jupyter-widgets/base",
     "model_module_version": "1.2.0",
     "model_name": "LayoutModel",
     "state": {
      "_model_module": "@jupyter-widgets/base",
      "_model_module_version": "1.2.0",
      "_model_name": "LayoutModel",
      "_view_count": null,
      "_view_module": "@jupyter-widgets/base",
      "_view_module_version": "1.2.0",
      "_view_name": "LayoutView",
      "align_content": null,
      "align_items": null,
      "align_self": null,
      "border": null,
      "bottom": null,
      "display": null,
      "flex": null,
      "flex_flow": null,
      "grid_area": null,
      "grid_auto_columns": null,
      "grid_auto_flow": null,
      "grid_auto_rows": null,
      "grid_column": null,
      "grid_gap": null,
      "grid_row": null,
      "grid_template_areas": null,
      "grid_template_columns": null,
      "grid_template_rows": null,
      "height": null,
      "justify_content": null,
      "justify_items": null,
      "left": null,
      "margin": null,
      "max_height": null,
      "max_width": null,
      "min_height": null,
      "min_width": null,
      "object_fit": null,
      "object_position": null,
      "order": null,
      "overflow": null,
      "overflow_x": null,
      "overflow_y": null,
      "padding": null,
      "right": null,
      "top": null,
      "visibility": null,
      "width": null
     }
    },
    "dd35443dbcd44ee587da1243b908e207": {
     "model_module": "@jupyter-widgets/controls",
     "model_module_version": "1.5.0",
     "model_name": "HTMLModel",
     "state": {
      "_dom_classes": [],
      "_model_module": "@jupyter-widgets/controls",
      "_model_module_version": "1.5.0",
      "_model_name": "HTMLModel",
      "_view_count": null,
      "_view_module": "@jupyter-widgets/controls",
      "_view_module_version": "1.5.0",
      "_view_name": "HTMLView",
      "description": "",
      "description_tooltip": null,
      "layout": "IPY_MODEL_eb9c1cc6bc1f40b18f542dedc6e83d35",
      "placeholder": "​",
      "style": "IPY_MODEL_06bfbb8dba7348fdb78ae067fe40d3f2",
      "value": " 29696/? [00:00&lt;00:00, 815603.36it/s]"
     }
    },
    "e0fddbf38f7043f9a288030834b76eb8": {
     "model_module": "@jupyter-widgets/base",
     "model_module_version": "1.2.0",
     "model_name": "LayoutModel",
     "state": {
      "_model_module": "@jupyter-widgets/base",
      "_model_module_version": "1.2.0",
      "_model_name": "LayoutModel",
      "_view_count": null,
      "_view_module": "@jupyter-widgets/base",
      "_view_module_version": "1.2.0",
      "_view_name": "LayoutView",
      "align_content": null,
      "align_items": null,
      "align_self": null,
      "border": null,
      "bottom": null,
      "display": null,
      "flex": null,
      "flex_flow": null,
      "grid_area": null,
      "grid_auto_columns": null,
      "grid_auto_flow": null,
      "grid_auto_rows": null,
      "grid_column": null,
      "grid_gap": null,
      "grid_row": null,
      "grid_template_areas": null,
      "grid_template_columns": null,
      "grid_template_rows": null,
      "height": null,
      "justify_content": null,
      "justify_items": null,
      "left": null,
      "margin": null,
      "max_height": null,
      "max_width": null,
      "min_height": null,
      "min_width": null,
      "object_fit": null,
      "object_position": null,
      "order": null,
      "overflow": null,
      "overflow_x": null,
      "overflow_y": null,
      "padding": null,
      "right": null,
      "top": null,
      "visibility": null,
      "width": null
     }
    },
    "eb9c1cc6bc1f40b18f542dedc6e83d35": {
     "model_module": "@jupyter-widgets/base",
     "model_module_version": "1.2.0",
     "model_name": "LayoutModel",
     "state": {
      "_model_module": "@jupyter-widgets/base",
      "_model_module_version": "1.2.0",
      "_model_name": "LayoutModel",
      "_view_count": null,
      "_view_module": "@jupyter-widgets/base",
      "_view_module_version": "1.2.0",
      "_view_name": "LayoutView",
      "align_content": null,
      "align_items": null,
      "align_self": null,
      "border": null,
      "bottom": null,
      "display": null,
      "flex": null,
      "flex_flow": null,
      "grid_area": null,
      "grid_auto_columns": null,
      "grid_auto_flow": null,
      "grid_auto_rows": null,
      "grid_column": null,
      "grid_gap": null,
      "grid_row": null,
      "grid_template_areas": null,
      "grid_template_columns": null,
      "grid_template_rows": null,
      "height": null,
      "justify_content": null,
      "justify_items": null,
      "left": null,
      "margin": null,
      "max_height": null,
      "max_width": null,
      "min_height": null,
      "min_width": null,
      "object_fit": null,
      "object_position": null,
      "order": null,
      "overflow": null,
      "overflow_x": null,
      "overflow_y": null,
      "padding": null,
      "right": null,
      "top": null,
      "visibility": null,
      "width": null
     }
    },
    "ee3cc2ebe25b4ef984ec6aa935639706": {
     "model_module": "@jupyter-widgets/base",
     "model_module_version": "1.2.0",
     "model_name": "LayoutModel",
     "state": {
      "_model_module": "@jupyter-widgets/base",
      "_model_module_version": "1.2.0",
      "_model_name": "LayoutModel",
      "_view_count": null,
      "_view_module": "@jupyter-widgets/base",
      "_view_module_version": "1.2.0",
      "_view_name": "LayoutView",
      "align_content": null,
      "align_items": null,
      "align_self": null,
      "border": null,
      "bottom": null,
      "display": null,
      "flex": null,
      "flex_flow": null,
      "grid_area": null,
      "grid_auto_columns": null,
      "grid_auto_flow": null,
      "grid_auto_rows": null,
      "grid_column": null,
      "grid_gap": null,
      "grid_row": null,
      "grid_template_areas": null,
      "grid_template_columns": null,
      "grid_template_rows": null,
      "height": null,
      "justify_content": null,
      "justify_items": null,
      "left": null,
      "margin": null,
      "max_height": null,
      "max_width": null,
      "min_height": null,
      "min_width": null,
      "object_fit": null,
      "object_position": null,
      "order": null,
      "overflow": null,
      "overflow_x": null,
      "overflow_y": null,
      "padding": null,
      "right": null,
      "top": null,
      "visibility": null,
      "width": null
     }
    },
    "f3f8392915474865b66d8902208911ab": {
     "model_module": "@jupyter-widgets/controls",
     "model_module_version": "1.5.0",
     "model_name": "DescriptionStyleModel",
     "state": {
      "_model_module": "@jupyter-widgets/controls",
      "_model_module_version": "1.5.0",
      "_model_name": "DescriptionStyleModel",
      "_view_count": null,
      "_view_module": "@jupyter-widgets/base",
      "_view_module_version": "1.2.0",
      "_view_name": "StyleView",
      "description_width": ""
     }
    },
    "fa6387101b4c46cd8b7098a06d4e4d86": {
     "model_module": "@jupyter-widgets/base",
     "model_module_version": "1.2.0",
     "model_name": "LayoutModel",
     "state": {
      "_model_module": "@jupyter-widgets/base",
      "_model_module_version": "1.2.0",
      "_model_name": "LayoutModel",
      "_view_count": null,
      "_view_module": "@jupyter-widgets/base",
      "_view_module_version": "1.2.0",
      "_view_name": "LayoutView",
      "align_content": null,
      "align_items": null,
      "align_self": null,
      "border": null,
      "bottom": null,
      "display": null,
      "flex": null,
      "flex_flow": null,
      "grid_area": null,
      "grid_auto_columns": null,
      "grid_auto_flow": null,
      "grid_auto_rows": null,
      "grid_column": null,
      "grid_gap": null,
      "grid_row": null,
      "grid_template_areas": null,
      "grid_template_columns": null,
      "grid_template_rows": null,
      "height": null,
      "justify_content": null,
      "justify_items": null,
      "left": null,
      "margin": null,
      "max_height": null,
      "max_width": null,
      "min_height": null,
      "min_width": null,
      "object_fit": null,
      "object_position": null,
      "order": null,
      "overflow": null,
      "overflow_x": null,
      "overflow_y": null,
      "padding": null,
      "right": null,
      "top": null,
      "visibility": null,
      "width": null
     }
    }
   }
  }
 },
 "nbformat": 4,
 "nbformat_minor": 1
}
